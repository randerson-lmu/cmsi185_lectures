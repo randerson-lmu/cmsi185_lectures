{
 "cells": [
  {
   "cell_type": "markdown",
   "metadata": {},
   "source": [
    "# CMSI 185.06 Exam 2 Preparation Guide\n",
    "- **Exam Date**: November 10, 2020\n",
    "- **Topics Covered**: Python Basics, Control Flow, Functions, Data Structures, Debugging, Recursion, Object Oriented Programming (theory and tenents), and Classes\n",
    "---"
   ]
  },
  {
   "cell_type": "markdown",
   "metadata": {},
   "source": [
    "## Logistics\n",
    "- The exam will be available beginning at 4pm on November 10th\n",
    "- The exam duration is 1.5 hours, you will have 24 hours to access the exam\n",
    "- You will access the exam via the quiz module in Brightspace\n",
    "- You will take the exam in the Lockdown Browser"
   ]
  },
  {
   "cell_type": "markdown",
   "metadata": {},
   "source": [
    "## Preparation\n",
    "- Practice working through programming questions without the help of the Python interpreter. Answer the questions on paper before running the cell to execute the code. You won't have an IDE during the exam, so ensure you thoroughly understand why each line of code behaves the way it does. \n",
    "- You are responsible for understanding all the concepts covered thus far in the course. \n",
    "- In addition to the examples provided below, ensure you understand all the examples provided during lecture, both in the slide and the lecture notebooks. "
   ]
  },
  {
   "cell_type": "markdown",
   "metadata": {},
   "source": [
    "---"
   ]
  },
  {
   "cell_type": "markdown",
   "metadata": {},
   "source": [
    "## Conceptual Understanding"
   ]
  },
  {
   "cell_type": "markdown",
   "metadata": {},
   "source": [
    "**1** Name three differences between the Python sets and Python dictionaries."
   ]
  },
  {
   "cell_type": "markdown",
   "metadata": {},
   "source": []
  },
  {
   "cell_type": "markdown",
   "metadata": {},
   "source": [
    "**2** Explain the difference between the keywords `print` and `return` when used in a function definition."
   ]
  },
  {
   "cell_type": "markdown",
   "metadata": {},
   "source": []
  },
  {
   "cell_type": "markdown",
   "metadata": {},
   "source": [
    "**3** What is the result of the following statments? If an error would be returned, indicate the type of error that would be returned."
   ]
  },
  {
   "cell_type": "code",
   "execution_count": null,
   "metadata": {},
   "outputs": [],
   "source": [
    "a = \"armadillo\"\n",
    "b = \"bat\"\n",
    "\n",
    "a, b = b, a\n",
    "print(a)"
   ]
  },
  {
   "cell_type": "code",
   "execution_count": null,
   "metadata": {},
   "outputs": [],
   "source": [
    "x = [7,8]\n",
    "x.append(9)\n",
    "x"
   ]
  },
  {
   "cell_type": "code",
   "execution_count": null,
   "metadata": {},
   "outputs": [],
   "source": [
    "#Using the value of x above\n",
    "y = [1, 2, x]\n",
    "y"
   ]
  },
  {
   "cell_type": "code",
   "execution_count": null,
   "metadata": {},
   "outputs": [],
   "source": [
    "d1 = tuple('iggy')"
   ]
  },
  {
   "cell_type": "code",
   "execution_count": null,
   "metadata": {},
   "outputs": [],
   "source": [
    "d2 = set('iggy')"
   ]
  },
  {
   "cell_type": "code",
   "execution_count": null,
   "metadata": {},
   "outputs": [],
   "source": [
    "print('x: {}, y: {}, z: {}'.format(x,y,z))"
   ]
  },
  {
   "cell_type": "code",
   "execution_count": null,
   "metadata": {},
   "outputs": [],
   "source": [
    "def func(x):\n",
    "    return x - 1\n",
    "\n",
    "print(func(3) * func(5))"
   ]
  },
  {
   "cell_type": "code",
   "execution_count": null,
   "metadata": {},
   "outputs": [],
   "source": [
    "for i in range(4):\n",
    "    print(\"Sup, world\")"
   ]
  },
  {
   "cell_type": "markdown",
   "metadata": {},
   "source": [
    "---\n",
    "## Application"
   ]
  },
  {
   "cell_type": "markdown",
   "metadata": {},
   "source": [
    "**1** Write a function called `wordList` that will input a list of words (strings) and `print` one line for each word, repeating that word twice with a space in between. For example, if the input is\n",
    "\n",
    "`['I', 'love', 'Python']`, \n",
    "\n",
    "the printed output would be:\n",
    "\n",
    "```I I\n",
    "love love\n",
    "Python Python```"
   ]
  },
  {
   "cell_type": "code",
   "execution_count": null,
   "metadata": {},
   "outputs": [],
   "source": []
  },
  {
   "cell_type": "markdown",
   "metadata": {},
   "source": [
    "---\n",
    "**2** Write a class called `Employee` that satifies the following criteria:\n",
    "- accepts 2 input parameters in the constructor: name and position\n",
    "- assigns a unique ID number to each employee upon instantiation\n",
    "- contains a special method definition to return a formatted string like:\n",
    "\n",
    "```Name: <name> \n",
    "Position: <position>\n",
    "ID: <id>```\n",
    "\n",
    "For example, if my class was instantiated like this: `emp1 = Employee(\"Sally\",\"Cashier\")` and assigned an ID of 1, `print(emp1)` should display\n",
    "\n",
    "```Name: Sally\n",
    "Position: Cashier\n",
    "ID: 1```"
   ]
  },
  {
   "cell_type": "code",
   "execution_count": null,
   "metadata": {},
   "outputs": [],
   "source": []
  },
  {
   "cell_type": "markdown",
   "metadata": {},
   "source": [
    "---"
   ]
  },
  {
   "cell_type": "markdown",
   "metadata": {},
   "source": [
    "**3** Rewrite the code below to handle a ValueError exception and print \"Oh no!\" if the exception is thrown.\n",
    "\n",
    "```\n",
    "#this imports the square root function\n",
    "from math import sqrt \n",
    "x = input(\"Please type a positive number: \")\n",
    "ans = math.sqrt(x)\n",
    "print(ans)\n",
    "```"
   ]
  },
  {
   "cell_type": "code",
   "execution_count": null,
   "metadata": {},
   "outputs": [],
   "source": []
  },
  {
   "cell_type": "markdown",
   "metadata": {},
   "source": [
    "**Bonus** Explain why you would want to encapsulate the code in question 3 in an error-handling structure. "
   ]
  },
  {
   "cell_type": "markdown",
   "metadata": {},
   "source": []
  },
  {
   "cell_type": "markdown",
   "metadata": {},
   "source": [
    "---\n",
    "**4** The following two functions are intended to keep a record of a changing value. Each time the value changes, `change_to` is called with the new value. There is a bug in one of these functions. For each function, explain why it works correctly or describe the bug. "
   ]
  },
  {
   "cell_type": "code",
   "execution_count": null,
   "metadata": {},
   "outputs": [],
   "source": [
    "def change_to(newvalue):\n",
    "    print(\"previous value:\", oldvalue)\n",
    "    oldvalue = newvalue"
   ]
  },
  {
   "cell_type": "code",
   "execution_count": null,
   "metadata": {},
   "outputs": [],
   "source": [
    "oldvalues = []\n",
    "def change_to(newvalue):\n",
    "    print('all previous values:', oldvalues)\n",
    "    oldvalues.append(newvalue)"
   ]
  }
 ],
 "metadata": {
  "kernelspec": {
   "display_name": "Python 3",
   "language": "python",
   "name": "python3"
  },
  "language_info": {
   "codemirror_mode": {
    "name": "ipython",
    "version": 3
   },
   "file_extension": ".py",
   "mimetype": "text/x-python",
   "name": "python",
   "nbconvert_exporter": "python",
   "pygments_lexer": "ipython3",
   "version": "3.8.3"
  }
 },
 "nbformat": 4,
 "nbformat_minor": 4
}
