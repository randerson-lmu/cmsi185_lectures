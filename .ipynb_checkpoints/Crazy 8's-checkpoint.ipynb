{
 "cells": [
  {
   "cell_type": "markdown",
   "metadata": {},
   "source": [
    "### Dealer"
   ]
  },
  {
   "cell_type": "code",
   "execution_count": 1,
   "metadata": {},
   "outputs": [],
   "source": [
    "import random\n",
    "class dealer:\n",
    "    def __init__(self):\n",
    "        #create deck of cards as list of tuples\n",
    "        self.base_deck = []\n",
    "        self.suit = [\"Spade\",\"Heart\",\"Club\",\"Diamond\"]\n",
    "        self.value = [\"Ace\",\"1\",\"2\",\"3\",\"4\",\"5\",\"6\",\"7\",\"8\",\"9\",\"Jack\",\"Queen\",\"King\"]\n",
    "        for i in self.suit:\n",
    "            for j in self.value:\n",
    "                self.base_deck.append((i,j))\n",
    "\n",
    "        #shuffle the deck\n",
    "        random.shuffle(self.base_deck)\n",
    "\n",
    "        #initialize discard deck\n",
    "        self.discard_deck = self.base_deck[:1]\n",
    "        del self.base_deck[:1]\n",
    "\n",
    "    def deal_cards(self, num):\n",
    "        #remove num cards from deck\n",
    "        cards = self.base_deck[:num]\n",
    "        del self.base_deck[:num]\n",
    "        return cards\n",
    "\n",
    "    def play_card(self, card):\n",
    "        #add card to discard pile\n",
    "        self.discard_deck.append(card)\n",
    "\n",
    "    def card_in_play(self):\n",
    "        return self.discard_deck[-1]\n",
    "    \n",
    "    def count(self):\n",
    "        return(len(self.base_deck))"
   ]
  },
  {
   "cell_type": "markdown",
   "metadata": {},
   "source": [
    "## Computer"
   ]
  },
  {
   "cell_type": "code",
   "execution_count": 2,
   "metadata": {},
   "outputs": [],
   "source": [
    "class game:\n",
    "    \"\"\"Plays against player\"\"\"\n",
    "    def __init__(self):\n",
    "        self.hand = []\n",
    "        \n",
    "    def make_play(self, in_play):\n",
    "        #find eligible card in hand\n",
    "        for card in self.hand:\n",
    "            if card[0] == in_play[0]: #suits are the same\n",
    "                self.hand.remove(card)\n",
    "                return card\n",
    "            elif card[1] == in_play[1]: #values are the same\n",
    "                self.hand.remove(card)\n",
    "                return card\n",
    "            elif card[1] == \"8\": #crazy 8\n",
    "                self.hand.remove(card)\n",
    "                return card\n",
    "        print(\"No card for computer\")\n",
    "        return\n",
    "\n",
    "    def count(self):\n",
    "        return len(self.hand)\n",
    "    \n",
    "    def add_cards(self,cards):\n",
    "        self.hand.extend(cards)"
   ]
  },
  {
   "cell_type": "markdown",
   "metadata": {},
   "source": [
    "## Player"
   ]
  },
  {
   "cell_type": "code",
   "execution_count": 3,
   "metadata": {},
   "outputs": [],
   "source": [
    "class player:\n",
    "    \"\"\"Maintains player's hand and executes plays\"\"\"\n",
    "    def __init__(self):\n",
    "        self.hand = []\n",
    "        \n",
    "    def display_hand(self):\n",
    "        print(\"Cards:\")\n",
    "        for i in self.hand:\n",
    "            print(i)\n",
    "\n",
    "    def make_play(self, card, in_play):\n",
    "        \n",
    "        if card in self.hand:\n",
    "            if card[0] == in_play[0]: #suits are the same\n",
    "                self.hand.remove(card)\n",
    "                return  card\n",
    "            elif card[1] == in_play[1]: #values are the same\n",
    "                self.hand.remove(card)\n",
    "                return card\n",
    "            elif card[1] == \"8\": #crazy 8\n",
    "                self.hand.remove(card)\n",
    "                return card\n",
    "        return\n",
    "    \n",
    "    def count(self):\n",
    "        return len(self.hand)\n",
    "    \n",
    "    def add_cards(self,cards):\n",
    "        self.hand.extend(cards)"
   ]
  },
  {
   "cell_type": "code",
   "execution_count": 4,
   "metadata": {},
   "outputs": [],
   "source": [
    "def in_play():\n",
    "    return c8_dealer.card_in_play()"
   ]
  },
  {
   "cell_type": "code",
   "execution_count": 5,
   "metadata": {},
   "outputs": [],
   "source": [
    "def player_play():\n",
    "    c8_player.display_hand()\n",
    "    inCard = input(\"\\nPick a card from your hand or type quit to exit: \" )\n",
    "    if inCard == \"quit\":\n",
    "        return \"quit\"\n",
    "    else:\n",
    "        inCard = tuple(inCard.split())\n",
    "        card = c8_player.make_play(inCard, in_play())\n",
    "        if (card):\n",
    "            c8_dealer.play_card(card)\n",
    "        else:\n",
    "            if c8_dealer.count() == 0:\n",
    "                return \"empty\"\n",
    "            else:\n",
    "                card = c8_dealer.deal_cards(1)\n",
    "                c8_player.add_cards(card)"
   ]
  },
  {
   "cell_type": "code",
   "execution_count": 6,
   "metadata": {},
   "outputs": [],
   "source": [
    "def game_play():\n",
    "    card = c8_opponent.make_play(in_play())\n",
    "    if (card):\n",
    "        c8_dealer.play_card(card)\n",
    "    else:\n",
    "        if c8_dealer.count() == 0:\n",
    "            return \"empty\"\n",
    "        else:\n",
    "            card = c8_dealer.deal_cards(1)\n",
    "            c8_opponent.add_cards(card)"
   ]
  },
  {
   "cell_type": "code",
   "execution_count": 7,
   "metadata": {},
   "outputs": [
    {
     "name": "stdout",
     "output_type": "stream",
     "text": [
      "Setup Complete. Enjoy the game!\n"
     ]
    }
   ],
   "source": [
    "c8_dealer = dealer()\n",
    "\n",
    "c8_opponent = game()\n",
    "c8_opponent.add_cards(c8_dealer.deal_cards(7))\n",
    "\n",
    "c8_player = player()\n",
    "c8_player.add_cards(c8_dealer.deal_cards(7))\n",
    "\n",
    "print(\"Setup Complete. Enjoy the game!\")"
   ]
  },
  {
   "cell_type": "code",
   "execution_count": 10,
   "metadata": {},
   "outputs": [
    {
     "name": "stdout",
     "output_type": "stream",
     "text": [
      "Card In Play Is: ('Club', '8') \n",
      "\n",
      "Computer has 9 cards remaining.\n",
      "Cards:\n",
      "('Heart', '2')\n",
      "('Diamond', '6')\n",
      "('Diamond', '9')\n",
      "('Heart', 'Jack')\n",
      "('Diamond', 'Queen')\n",
      "('Spade', '8')\n",
      "('Diamond', 'Jack')\n"
     ]
    },
    {
     "ename": "KeyboardInterrupt",
     "evalue": "Interrupted by user",
     "output_type": "error",
     "traceback": [
      "\u001b[1;31m---------------------------------------------------------------------------\u001b[0m",
      "\u001b[1;31mKeyboardInterrupt\u001b[0m                         Traceback (most recent call last)",
      "\u001b[1;32m<ipython-input-10-d2e65a17b48b>\u001b[0m in \u001b[0;36m<module>\u001b[1;34m\u001b[0m\n\u001b[0;32m      4\u001b[0m     \u001b[0mprint\u001b[0m\u001b[1;33m(\u001b[0m\u001b[1;34m\"Card In Play Is:\"\u001b[0m\u001b[1;33m,\u001b[0m \u001b[0min_play\u001b[0m\u001b[1;33m(\u001b[0m\u001b[1;33m)\u001b[0m\u001b[1;33m,\u001b[0m\u001b[1;34m\"\\n\"\u001b[0m\u001b[1;33m)\u001b[0m\u001b[1;33m\u001b[0m\u001b[1;33m\u001b[0m\u001b[0m\n\u001b[0;32m      5\u001b[0m     \u001b[0mprint\u001b[0m\u001b[1;33m(\u001b[0m\u001b[1;34m\"Computer has\"\u001b[0m\u001b[1;33m,\u001b[0m \u001b[0mc8_opponent\u001b[0m\u001b[1;33m.\u001b[0m\u001b[0mcount\u001b[0m\u001b[1;33m(\u001b[0m\u001b[1;33m)\u001b[0m\u001b[1;33m,\u001b[0m \u001b[1;34m\"cards remaining.\"\u001b[0m\u001b[1;33m)\u001b[0m\u001b[1;33m\u001b[0m\u001b[1;33m\u001b[0m\u001b[0m\n\u001b[1;32m----> 6\u001b[1;33m     \u001b[0mstat\u001b[0m \u001b[1;33m=\u001b[0m \u001b[0mplayer_play\u001b[0m\u001b[1;33m(\u001b[0m\u001b[1;33m)\u001b[0m\u001b[1;33m\u001b[0m\u001b[1;33m\u001b[0m\u001b[0m\n\u001b[0m\u001b[0;32m      7\u001b[0m     \u001b[1;32mif\u001b[0m \u001b[1;33m(\u001b[0m\u001b[0mstat\u001b[0m \u001b[1;33m==\u001b[0m \u001b[1;34m\"quit\"\u001b[0m \u001b[1;32mor\u001b[0m \u001b[0mstat\u001b[0m \u001b[1;33m==\u001b[0m \u001b[1;34m\"empty\"\u001b[0m\u001b[1;33m)\u001b[0m\u001b[1;33m:\u001b[0m\u001b[1;33m\u001b[0m\u001b[1;33m\u001b[0m\u001b[0m\n\u001b[0;32m      8\u001b[0m         \u001b[0mprint\u001b[0m\u001b[1;33m(\u001b[0m\u001b[1;34m\"...Exiting...\"\u001b[0m\u001b[1;33m)\u001b[0m\u001b[1;33m\u001b[0m\u001b[1;33m\u001b[0m\u001b[0m\n",
      "\u001b[1;32m<ipython-input-5-5ad27c0f3360>\u001b[0m in \u001b[0;36mplayer_play\u001b[1;34m()\u001b[0m\n\u001b[0;32m      1\u001b[0m \u001b[1;32mdef\u001b[0m \u001b[0mplayer_play\u001b[0m\u001b[1;33m(\u001b[0m\u001b[1;33m)\u001b[0m\u001b[1;33m:\u001b[0m\u001b[1;33m\u001b[0m\u001b[1;33m\u001b[0m\u001b[0m\n\u001b[0;32m      2\u001b[0m     \u001b[0mc8_player\u001b[0m\u001b[1;33m.\u001b[0m\u001b[0mdisplay_hand\u001b[0m\u001b[1;33m(\u001b[0m\u001b[1;33m)\u001b[0m\u001b[1;33m\u001b[0m\u001b[1;33m\u001b[0m\u001b[0m\n\u001b[1;32m----> 3\u001b[1;33m     \u001b[0minCard\u001b[0m \u001b[1;33m=\u001b[0m \u001b[0minput\u001b[0m\u001b[1;33m(\u001b[0m\u001b[1;34m\"\\nPick a card from your hand or type quit to exit: \"\u001b[0m \u001b[1;33m)\u001b[0m\u001b[1;33m\u001b[0m\u001b[1;33m\u001b[0m\u001b[0m\n\u001b[0m\u001b[0;32m      4\u001b[0m     \u001b[1;32mif\u001b[0m \u001b[0minCard\u001b[0m \u001b[1;33m==\u001b[0m \u001b[1;34m\"quit\"\u001b[0m\u001b[1;33m:\u001b[0m\u001b[1;33m\u001b[0m\u001b[1;33m\u001b[0m\u001b[0m\n\u001b[0;32m      5\u001b[0m         \u001b[1;32mreturn\u001b[0m \u001b[1;34m\"quit\"\u001b[0m\u001b[1;33m\u001b[0m\u001b[1;33m\u001b[0m\u001b[0m\n",
      "\u001b[1;32m~\\anaconda3\\lib\\site-packages\\ipykernel\\kernelbase.py\u001b[0m in \u001b[0;36mraw_input\u001b[1;34m(self, prompt)\u001b[0m\n\u001b[0;32m    858\u001b[0m                 \u001b[1;34m\"raw_input was called, but this frontend does not support input requests.\"\u001b[0m\u001b[1;33m\u001b[0m\u001b[1;33m\u001b[0m\u001b[0m\n\u001b[0;32m    859\u001b[0m             )\n\u001b[1;32m--> 860\u001b[1;33m         return self._input_request(str(prompt),\n\u001b[0m\u001b[0;32m    861\u001b[0m             \u001b[0mself\u001b[0m\u001b[1;33m.\u001b[0m\u001b[0m_parent_ident\u001b[0m\u001b[1;33m,\u001b[0m\u001b[1;33m\u001b[0m\u001b[1;33m\u001b[0m\u001b[0m\n\u001b[0;32m    862\u001b[0m             \u001b[0mself\u001b[0m\u001b[1;33m.\u001b[0m\u001b[0m_parent_header\u001b[0m\u001b[1;33m,\u001b[0m\u001b[1;33m\u001b[0m\u001b[1;33m\u001b[0m\u001b[0m\n",
      "\u001b[1;32m~\\anaconda3\\lib\\site-packages\\ipykernel\\kernelbase.py\u001b[0m in \u001b[0;36m_input_request\u001b[1;34m(self, prompt, ident, parent, password)\u001b[0m\n\u001b[0;32m    902\u001b[0m             \u001b[1;32mexcept\u001b[0m \u001b[0mKeyboardInterrupt\u001b[0m\u001b[1;33m:\u001b[0m\u001b[1;33m\u001b[0m\u001b[1;33m\u001b[0m\u001b[0m\n\u001b[0;32m    903\u001b[0m                 \u001b[1;31m# re-raise KeyboardInterrupt, to truncate traceback\u001b[0m\u001b[1;33m\u001b[0m\u001b[1;33m\u001b[0m\u001b[1;33m\u001b[0m\u001b[0m\n\u001b[1;32m--> 904\u001b[1;33m                 \u001b[1;32mraise\u001b[0m \u001b[0mKeyboardInterrupt\u001b[0m\u001b[1;33m(\u001b[0m\u001b[1;34m\"Interrupted by user\"\u001b[0m\u001b[1;33m)\u001b[0m \u001b[1;32mfrom\u001b[0m \u001b[1;32mNone\u001b[0m\u001b[1;33m\u001b[0m\u001b[1;33m\u001b[0m\u001b[0m\n\u001b[0m\u001b[0;32m    905\u001b[0m             \u001b[1;32mexcept\u001b[0m \u001b[0mException\u001b[0m \u001b[1;32mas\u001b[0m \u001b[0me\u001b[0m\u001b[1;33m:\u001b[0m\u001b[1;33m\u001b[0m\u001b[1;33m\u001b[0m\u001b[0m\n\u001b[0;32m    906\u001b[0m                 \u001b[0mself\u001b[0m\u001b[1;33m.\u001b[0m\u001b[0mlog\u001b[0m\u001b[1;33m.\u001b[0m\u001b[0mwarning\u001b[0m\u001b[1;33m(\u001b[0m\u001b[1;34m\"Invalid Message:\"\u001b[0m\u001b[1;33m,\u001b[0m \u001b[0mexc_info\u001b[0m\u001b[1;33m=\u001b[0m\u001b[1;32mTrue\u001b[0m\u001b[1;33m)\u001b[0m\u001b[1;33m\u001b[0m\u001b[1;33m\u001b[0m\u001b[0m\n",
      "\u001b[1;31mKeyboardInterrupt\u001b[0m: Interrupted by user"
     ]
    }
   ],
   "source": [
    "from IPython.display import clear_output\n",
    "\n",
    "while(c8_player.count() > 0 and c8_opponent.count() > 0):\n",
    "    print(\"Card In Play Is:\", in_play(),\"\\n\")\n",
    "    print(\"Computer has\", c8_opponent.count(), \"cards remaining.\\n\")\n",
    "    stat = player_play()\n",
    "    if (stat == \"quit\" or stat == \"empty\"):\n",
    "        print(\"...Exiting...\")\n",
    "        break\n",
    "    stat = game_play()\n",
    "    if stat == \"empty\":\n",
    "        print(\"...Exiting...\")\n",
    "        break\n",
    "    #clear_output(wait=True)\n",
    "    \n",
    "if (c8_player.count() == 0):\n",
    "    print(\"Yay! You won!\")\n",
    "elif(c8_opponent.count() == 0):\n",
    "    print(\"Computer won. Better luck next time!\")"
   ]
  },
  {
   "cell_type": "code",
   "execution_count": null,
   "metadata": {},
   "outputs": [],
   "source": []
  }
 ],
 "metadata": {
  "kernelspec": {
   "display_name": "Python 3",
   "language": "python",
   "name": "python3"
  },
  "language_info": {
   "codemirror_mode": {
    "name": "ipython",
    "version": 3
   },
   "file_extension": ".py",
   "mimetype": "text/x-python",
   "name": "python",
   "nbconvert_exporter": "python",
   "pygments_lexer": "ipython3",
   "version": "3.8.3"
  }
 },
 "nbformat": 4,
 "nbformat_minor": 4
}
