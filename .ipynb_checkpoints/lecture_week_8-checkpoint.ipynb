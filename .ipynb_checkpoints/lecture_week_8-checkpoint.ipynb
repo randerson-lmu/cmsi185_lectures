{
 "cells": [
  {
   "cell_type": "markdown",
   "metadata": {},
   "source": [
    "# CMSI-185 Computer Programming\n",
    "## Week 8 - OOP, Classes, and Objects\n",
    "---"
   ]
  },
  {
   "cell_type": "markdown",
   "metadata": {},
   "source": [
    "Object-oriented programming is a paradigm where we define our own data types meant to represent some real-world object. It helps us write code that is readable, concise, and easy to maintain."
   ]
  },
  {
   "cell_type": "markdown",
   "metadata": {},
   "source": [
    "### Classes\n",
    "Classes provide a template for objects"
   ]
  },
  {
   "cell_type": "code",
   "execution_count": null,
   "metadata": {},
   "outputs": [],
   "source": [
    "class apple():\n",
    "    \"\"\"Makes great cider. Yum!\"\"\"\n",
    "    \n",
    "    color = \"red\"\n",
    "    \n",
    "    def eat(self):\n",
    "        return \"Eating the apple.\"\n",
    "    \n",
    "    def __str__(self):\n",
    "        return self.color + \" apple\""
   ]
  },
  {
   "cell_type": "markdown",
   "metadata": {},
   "source": [
    "*Special methods (dunders)* can be *overloaded* to define class-specific behavior."
   ]
  },
  {
   "cell_type": "code",
   "execution_count": null,
   "metadata": {},
   "outputs": [],
   "source": [
    "myApple = apple()\n",
    "str(myApple)"
   ]
  },
  {
   "cell_type": "markdown",
   "metadata": {},
   "source": [
    "---\n",
    "**TRY IT**\n",
    "Write two class definitions: one for cats called `cat` and one for dogs called `dog`.\n",
    "Each class should have three data members: `name`,`age`, and `walking`\n",
    "Each class should have two methods (in addition to the two special methods defined for you): `walk` and `talk`\n",
    "The cat class' `talk` method should return \"meow\" and the dog class' `talk` method should return \"woof\""
   ]
  },
  {
   "cell_type": "code",
   "execution_count": 98,
   "metadata": {},
   "outputs": [],
   "source": [
    "class cat:\n",
    "    \"\"\"Cat class definition\n",
    "        name as string, age as integer, \n",
    "        and walking as Boolean (initial value is False)\"\"\"\n",
    "    \n",
    "    def __init__(self,name,age):\n",
    "        self.name = name\n",
    "        self.age = age\n",
    "        self.walking = False \n",
    "    \n",
    "    def walk(self):\n",
    "        \"\"\"Toggles walking attribute\"\"\"\n",
    "        ###YOUR CODE HERE###\n",
    "    \n",
    "    ###DEFINE THE TALK METHOD HERE###\n",
    "    \n",
    "    def __str__(self):\n",
    "        return(\"Name:{}\\nAge:{}\\nWalking:{}\\nSays '{}'\"\n",
    "               .format(self.name,self.age,self.walking,self.talk()))\n",
    "    \n",
    "###DEFINE THE DOG CLASS HERE###"
   ]
  },
  {
   "cell_type": "markdown",
   "metadata": {},
   "source": [
    "### Objects\n",
    "Objects are an instance of a class. Create an object by calling the class' *constructor*"
   ]
  },
  {
   "cell_type": "code",
   "execution_count": null,
   "metadata": {},
   "outputs": [],
   "source": [
    "myApple = apple()\n",
    "yourApple = apple() "
   ]
  },
  {
   "cell_type": "markdown",
   "metadata": {},
   "source": [
    "---\n",
    "**TRY IT** \n",
    "Construct a cat and a dog using your `cat` and `dog` class definitions. "
   ]
  },
  {
   "cell_type": "code",
   "execution_count": null,
   "metadata": {},
   "outputs": [],
   "source": []
  },
  {
   "cell_type": "markdown",
   "metadata": {},
   "source": [
    "---"
   ]
  },
  {
   "cell_type": "markdown",
   "metadata": {},
   "source": [
    "Instance variables are owned by instances of the class. So each object has it's own value.\n",
    "In addition to defining data inside the class definition, you can assign attribute values directly to an instance using dot notation (although frowned upon)."
   ]
  },
  {
   "cell_type": "code",
   "execution_count": null,
   "metadata": {},
   "outputs": [],
   "source": [
    "myApple.owner = \"Buttercup\"\n",
    "print(\"{}'s {}.\".format(myApple.owner,myApple))"
   ]
  },
  {
   "cell_type": "markdown",
   "metadata": {},
   "source": [
    "---\n",
    "We can use the `isinstance()` method to determine the class an object belongs to."
   ]
  },
  {
   "cell_type": "code",
   "execution_count": null,
   "metadata": {},
   "outputs": [],
   "source": [
    "#isinstance(<obj>,<class>)"
   ]
  },
  {
   "cell_type": "markdown",
   "metadata": {},
   "source": [
    "---\n",
    "### `help()` is on the way"
   ]
  },
  {
   "cell_type": "code",
   "execution_count": null,
   "metadata": {},
   "outputs": [],
   "source": [
    "help(apple)"
   ]
  }
 ],
 "metadata": {
  "kernelspec": {
   "display_name": "Python 3",
   "language": "python",
   "name": "python3"
  },
  "language_info": {
   "codemirror_mode": {
    "name": "ipython",
    "version": 3
   },
   "file_extension": ".py",
   "mimetype": "text/x-python",
   "name": "python",
   "nbconvert_exporter": "python",
   "pygments_lexer": "ipython3",
   "version": "3.8.3"
  }
 },
 "nbformat": 4,
 "nbformat_minor": 4
}
