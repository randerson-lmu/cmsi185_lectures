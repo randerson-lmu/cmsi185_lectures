{
 "cells": [
  {
   "cell_type": "markdown",
   "metadata": {},
   "source": [
    "# CMSI-185 Computer Programming\n",
    "## Week 11 - Graphical User Interfaces\n",
    "---"
   ]
  },
  {
   "cell_type": "markdown",
   "metadata": {},
   "source": [
    "## Practice App"
   ]
  },
  {
   "cell_type": "code",
   "execution_count": 1,
   "metadata": {},
   "outputs": [],
   "source": [
    "from tkinter import *\n",
    "\n",
    "#1. Instantiate your root window\n",
    "master = Tk()\n",
    "master.geometry(\"250x250\")\n",
    "\n",
    "#2 Create frames to establish the GUIs structure\n",
    "topFrame = Frame(master, height=100, bd=3, relief=SUNKEN)\n",
    "topFrame.pack_propagate(0)\n",
    "topFrame.pack(fill=X)\n",
    "middleFrame = Frame(master, height=100, bd=3, relief=SUNKEN)\n",
    "middleFrame.pack_propagate(0)\n",
    "middleFrame.pack(fill=X)\n",
    "bottomFrame = Frame(master,height=50, bd=3, relief=RAISED)\n",
    "bottomFrame.pack_propagate(0)\n",
    "bottomFrame.pack(fill=X)\n",
    "\n",
    "#3 Create and pack the First Name label and entry field\n",
    "firstName = Label(topFrame, text = \"First Name\")\n",
    "firstName.pack(side=LEFT)\n",
    "e1 = Entry(topFrame)\n",
    "e1.pack(side=LEFT, fill=X)\n",
    "\n",
    "#4 Create and pack the Last Name label and entry field\n",
    "lastName = Label(middleFrame, text = \"Last Name\")\n",
    "lastName.pack(side=LEFT)\n",
    "e2 = Entry(middleFrame)\n",
    "e2.pack(side=LEFT, fill=X)\n",
    "\n",
    "#5 Create the label field that displays the first and last name\n",
    "def setName():\n",
    "    nameVar.set(e1.get() + \" \" + e2.get())\n",
    "\n",
    "submitButton = Button(bottomFrame, text=\"Update\", command=setName)\n",
    "submitButton.pack(side=LEFT)\n",
    "\n",
    "nameVar = StringVar()\n",
    "displayLabel = Label(bottomFrame, textvariable=nameVar, fg=\"Blue\", font=(\"Helvetica\",18))\n",
    "displayLabel.pack(side=LEFT, fill=X, expand=1)\n",
    "\n",
    "#6 Run the GUI\n",
    "master.mainloop()"
   ]
  },
  {
   "cell_type": "markdown",
   "metadata": {},
   "source": [
    "---"
   ]
  },
  {
   "cell_type": "markdown",
   "metadata": {},
   "source": [
    "## Task Management Application"
   ]
  },
  {
   "cell_type": "code",
   "execution_count": 2,
   "metadata": {},
   "outputs": [],
   "source": [
    "def updateList():\n",
    "    for widget in frame2.winfo_children():\n",
    "        widget.destroy()\n",
    "        \n",
    "    colors = [\"Pink\", \"White\"]\n",
    "    i = True\n",
    "    r = 0\n",
    "    for task in todos:\n",
    "        i = not i\n",
    "        listFrame = Frame(frame2, bg = colors[i], relief = SUNKEN, height = 50)\n",
    "        listFrame.pack(fill=\"x\")\n",
    "        r += 1\n",
    "        taskLabel = Label(listFrame, text = \"[\"+ str(r) + \"]\\t\" + task, font=\"Helvetica 14\", bg = colors[i])\n",
    "        taskLabel.pack(side=LEFT)\n",
    "        completeCheck = Checkbutton(listFrame, variable=completeInt, bg=colors[i], offvalue=0, onvalue=r, command=deleteTask)\n",
    "        completeCheck.deselect()\n",
    "        completeCheck.pack(side=RIGHT)\n",
    "        "
   ]
  },
  {
   "cell_type": "code",
   "execution_count": 3,
   "metadata": {},
   "outputs": [],
   "source": [
    "def addTask():\n",
    "    taskText = newTaskEntry.get()\n",
    "    todos.append(taskText)\n",
    "    updateList()\n",
    "    newTaskEntry.delete(0, END)"
   ]
  },
  {
   "cell_type": "code",
   "execution_count": 4,
   "metadata": {},
   "outputs": [],
   "source": [
    "def deleteTask():\n",
    "    idNum = deleteNumEntry.get()\n",
    "    \n",
    "    if (idNum == \"\") and (completeInt.get() == 0):\n",
    "        messagebox.showerror(\"Input Error\")\n",
    "    elif (idNum and (int(idNum) > 0)):\n",
    "        num = int(idNum)\n",
    "    else:\n",
    "        num = completeInt.get()\n",
    "        \n",
    "    del todos[num-1]\n",
    "    updateList()\n",
    "    deleteNumEntry.delete(0, END)"
   ]
  },
  {
   "cell_type": "code",
   "execution_count": 5,
   "metadata": {},
   "outputs": [],
   "source": [
    "from tkinter import *\n",
    "from tkinter import messagebox\n",
    "\n",
    "root = Tk()\n",
    "root.geometry(\"700x800\")\n",
    "root.title(\"ToDo App\")\n",
    "\n",
    "#------------------------------------------------------------------------------------\n",
    "\n",
    "frame1 = Frame(root, bg=\"Black\", height=100, bd=5, relief=SUNKEN)\n",
    "frame1.pack(fill=\"x\")\n",
    "\n",
    "frame2 = Frame(root, bg=\"White\",height=300)\n",
    "frame2.pack(fill=\"both\", expand=1)\n",
    "\n",
    "frame3 = Frame(root, bg=\"Black\",height=100, bd=5, relief=SUNKEN)\n",
    "frame3.pack(fill=\"x\")\n",
    "\n",
    "frame4 = Frame(frame3, bg=\"Black\",height=50)\n",
    "frame4.pack(fill=\"x\")\n",
    "\n",
    "frame5 = Frame(frame3, bg=\"Black\",height=50)\n",
    "frame5.pack(fill=\"x\")\n",
    "\n",
    "#------------------------------------------------------------------------------------\n",
    "\n",
    "appHeader = Label(frame1, text=\"My To-Do List\", font=\"Helvetica 30\" , bg=\"Black\", fg=\"Pink\")\n",
    "appHeader.pack()\n",
    "\n",
    "#------------------------------------------------------------------------------------\n",
    "\n",
    "#text box to type new task description\n",
    "newTaskEntry = Entry(frame4)\n",
    "newTaskEntry.pack(side=LEFT, fill=BOTH, expand=1)\n",
    "\n",
    "#submit button to add task to list\n",
    "newTaskButton = Button(frame4, text=\"Add Task\", bg=\"Black\", fg=\"White\", command=addTask)\n",
    "newTaskButton.pack(side=RIGHT) \n",
    "\n",
    "#------------------------------------------------------------------------------------\n",
    "\n",
    "#text box to type number to delete\n",
    "deleteNumEntry=Entry(frame5, width=10)\n",
    "deleteNumEntry.pack(side=LEFT)\n",
    "\n",
    "#delete button --!!!need to add command\n",
    "deleteButton=Button(frame5, text=\"Delete\", bg=\"Black\", fg=\"White\", command=deleteTask)\n",
    "deleteButton.pack(side=LEFT, fill=\"x\", expand=1)\n",
    "\n",
    "#save button\n",
    "saveButton = Button(frame5, text=\"Save\", bg=\"Black\",fg=\"White\")\n",
    "saveButton.pack(side=LEFT, fill=\"x\", expand=1)\n",
    "\n",
    "#close button\n",
    "closeButton = Button(frame5, text=\"Close\", bg=\"Black\", fg=\"White\", command=root.destroy)\n",
    "closeButton.pack(side=LEFT, fill=\"x\", expand=1)\n",
    "#------------------------------------------------------------------------------------\n",
    "\n",
    "todos = list()\n",
    "completeInt = IntVar()\n",
    "\n",
    "#------------------------------------------------------------------------------------\n",
    "root.mainloop()"
   ]
  },
  {
   "cell_type": "markdown",
   "metadata": {},
   "source": [
    "---"
   ]
  },
  {
   "cell_type": "markdown",
   "metadata": {},
   "source": [
    "---"
   ]
  }
 ],
 "metadata": {
  "kernelspec": {
   "display_name": "Python 3",
   "language": "python",
   "name": "python3"
  },
  "language_info": {
   "codemirror_mode": {
    "name": "ipython",
    "version": 3
   },
   "file_extension": ".py",
   "mimetype": "text/x-python",
   "name": "python",
   "nbconvert_exporter": "python",
   "pygments_lexer": "ipython3",
   "version": "3.8.3"
  }
 },
 "nbformat": 4,
 "nbformat_minor": 4
}
