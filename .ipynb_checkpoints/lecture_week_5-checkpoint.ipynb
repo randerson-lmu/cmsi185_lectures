{
 "cells": [
  {
   "cell_type": "markdown",
   "metadata": {},
   "source": [
    "# CMSI-185 Computer Programming\n",
    "## Week 5 - Collections, Iteration, and User Input\n",
    "---"
   ]
  },
  {
   "cell_type": "markdown",
   "metadata": {},
   "source": [
    "Python includes several built-in ***data structures*** that provide ways to store collections of data in an organized manner. These structures are optimized to provide quick and easy element access. They also provide several ***methods*** that we can use to manipulate the data."
   ]
  },
  {
   "cell_type": "markdown",
   "metadata": {},
   "source": [
    "---\n",
    "### [`Lists`]"
   ]
  },
  {
   "cell_type": "markdown",
   "metadata": {},
   "source": [
    "Lists are created with square brackets `[]` and can be saved to a variable."
   ]
  },
  {
   "cell_type": "code",
   "execution_count": null,
   "metadata": {},
   "outputs": [],
   "source": [
    "fruit = [\"apples\",\"bananas\",\"oranges\"]\n",
    "fruit"
   ]
  },
  {
   "cell_type": "markdown",
   "metadata": {},
   "source": [
    "List elements can have values of a different type."
   ]
  },
  {
   "cell_type": "code",
   "execution_count": null,
   "metadata": {},
   "outputs": [],
   "source": [
    "mixed_list = [5,\"abc\",sum([1,2,3])]\n",
    "print(my_list[0],\"\\tNext \",my_list[1])"
   ]
  },
  {
   "cell_type": "markdown",
   "metadata": {},
   "source": [
    "We learned that lists can even contain elements that are lists themselves. Assigning sublists (or nested lists) to a variable creates an alias for that sublist. Any change we make through the sublist reference will be seen when we access the main list."
   ]
  },
  {
   "cell_type": "code",
   "execution_count": null,
   "metadata": {},
   "outputs": [],
   "source": [
    "#main list\n",
    "life = [['United States', 78.54],['Canada',82.25]]\n",
    "\n",
    "#alias to a sublist (or nested list)\n",
    "canada = life[1]"
   ]
  },
  {
   "cell_type": "markdown",
   "metadata": {},
   "source": [
    "Strings and lists are both sequences, so most of the same operators apply. Here's a link to the Python tutorial where you can learn more about list methods: [Python Documentation](https://docs.python.org/3/tutorial/datastructures.html)"
   ]
  },
  {
   "cell_type": "code",
   "execution_count": null,
   "metadata": {},
   "outputs": [],
   "source": [
    "#determine the length of a list\n",
    "len(life)"
   ]
  },
  {
   "cell_type": "markdown",
   "metadata": {},
   "source": [
    "---\n",
    "### `while` loops"
   ]
  },
  {
   "cell_type": "markdown",
   "metadata": {},
   "source": [
    "`while` loops allow us to repeat a block of code until a condition (captured in the form of a Boolean expression) evaluates to `False`. "
   ]
  },
  {
   "cell_type": "markdown",
   "metadata": {},
   "source": [
    "We can use `while` loops to make menus that interact with users using `input`"
   ]
  },
  {
   "cell_type": "code",
   "execution_count": null,
   "metadata": {},
   "outputs": [],
   "source": [
    "text = \"\"\n",
    "first = 1\n",
    "\n",
    "while text != \"quit\":\n",
    "    if first:\n",
    "        first = 0\n",
    "        text = input(\"\"\"\n",
    "        Welcome to CMSI 185!  \n",
    "        Select a menu option or type 'quit' to exit.\n",
    "        ---------------------------------------------\n",
    "        1 Review the syllabus\n",
    "        2 Contact the instructor\n",
    "        3 Determine next due date\n",
    "        \"\"\")\n",
    "    else:\n",
    "        text = input(\"\\nSelect another menu option or type 'quit' to exit.\")\n",
    "    \n",
    "    if text == \"quit\":\n",
    "        print(\"...exiting program\")\n",
    "    elif text == \"1\":\n",
    "        print(\"Retrieving CMSI 185 Syllabus...\")\n",
    "    elif text == \"2\":\n",
    "        print(\"Email the instructor at robyn.anderson@lmu.edu\")\n",
    "    elif text == \"3\":\n",
    "        print(\"The next assignment is due on September 29, 2020\")\n",
    "    else:\n",
    "        continue"
   ]
  },
  {
   "cell_type": "markdown",
   "metadata": {},
   "source": [
    "---\n",
    "### `for` loops"
   ]
  },
  {
   "cell_type": "markdown",
   "metadata": {},
   "source": [
    "`for` loops are a natural tool for iterating over lists, or any iterable sequence"
   ]
  },
  {
   "cell_type": "code",
   "execution_count": null,
   "metadata": {},
   "outputs": [],
   "source": [
    "flavors = [\"strawberry\",\"vanilla\",\"chocolate\"]\n",
    "print(\"our flavors include:\")\n",
    "for flavor in flavors:\n",
    "    print(flavor)"
   ]
  },
  {
   "cell_type": "markdown",
   "metadata": {},
   "source": [
    "We can iterate over strings too, because they are just sequences of characters"
   ]
  },
  {
   "cell_type": "code",
   "execution_count": null,
   "metadata": {},
   "outputs": [],
   "source": [
    "#Define the function\n",
    "def switchCase(name):\n",
    "    \"\"\"Count the number of uppercase letters \n",
    "    and output string with opposite capitalization\n",
    "    name - string name; no default value\"\"\"\n",
    "    \n",
    "    count = 0\n",
    "    newName = \"\"\n",
    "    for ltr in name:\n",
    "        if ltr.isupper():\n",
    "            count += 1\n",
    "            newName = newName + ltr.lower()\n",
    "        elif ltr.islower():\n",
    "            newName = newName + ltr.upper()\n",
    "        else:\n",
    "            newName = newName + ltr\n",
    "    if (count > 1) or (count == 0):\n",
    "        print(\"This name had\",count,\"uppercase letters.\")\n",
    "    else:\n",
    "        print(\"This name had\",count,\"uppercase letter.\")\n",
    "        \n",
    "    return newName"
   ]
  },
  {
   "cell_type": "code",
   "execution_count": null,
   "metadata": {},
   "outputs": [],
   "source": [
    "#Call the function\n",
    "switchCase(\"Your Name Here\")"
   ]
  },
  {
   "cell_type": "markdown",
   "metadata": {},
   "source": [
    "---\n",
    "`range()` can be used to automatically generate regular arithmetic sequences. The general pattern for use is `range(start, stop+1, step)`. Look familiar?\n",
    "\n",
    "This syntax will generate the integers from *start* to *stop*, in increments of *step*."
   ]
  },
  {
   "cell_type": "code",
   "execution_count": null,
   "metadata": {},
   "outputs": [],
   "source": [
    "range(4)"
   ]
  },
  {
   "cell_type": "code",
   "execution_count": null,
   "metadata": {},
   "outputs": [],
   "source": [
    "#Cast a range to a list to see the full sequence\n",
    "list(range(4))"
   ]
  },
  {
   "cell_type": "code",
   "execution_count": null,
   "metadata": {},
   "outputs": [],
   "source": [
    "#Just like slicing, the start, stop, step values can be negative\n",
    "list(range(10,0,-1))"
   ]
  },
  {
   "cell_type": "markdown",
   "metadata": {},
   "source": [
    "We can use sequence *generators* like `range` to control loop structures. This example saves user inputs to a list."
   ]
  },
  {
   "cell_type": "code",
   "execution_count": null,
   "metadata": {},
   "outputs": [],
   "source": [
    "lst = []\n",
    "n = int(input(\"Enter number of users :\"))\n",
    "for i in range(0,n):\n",
    "    name = input()\n",
    "    lst.append(name)\n",
    "print(\"User list:\",lst)"
   ]
  },
  {
   "cell_type": "markdown",
   "metadata": {},
   "source": [
    "---\n",
    "**TRY IT** Find the bugs! Run the countdown timer once you've finished debugging."
   ]
  },
  {
   "cell_type": "code",
   "execution_count": null,
   "metadata": {},
   "outputs": [],
   "source": [
    "import time\n",
    "\n",
    "def countdown(n)\n",
    "\"\"\"Prints a countdown timer beginning at n seconds.\n",
    "   Prints 'Blastoff' once the time is up.\n",
    "   n - timer (seconds)\"\"\"\n",
    "    while n > 0\n",
    "        print 'n'\n",
    "                 \n",
    "        time.sleep(1)\n",
    "        n - 1 \n",
    "print('🚀 Blastoff!') \n",
    "                   "
   ]
  },
  {
   "cell_type": "markdown",
   "metadata": {},
   "source": [
    "---\n",
    "### {Diction:aries}"
   ]
  },
  {
   "cell_type": "code",
   "execution_count": null,
   "metadata": {},
   "outputs": [],
   "source": [
    "#using dict() constructor to create a dictionary\n",
    "location = dict(City=\"Los Angeles\",State=\"California\",Country=\"USA\")\n",
    "for i in location:\n",
    "    print(i,location[i])"
   ]
  },
  {
   "cell_type": "markdown",
   "metadata": {},
   "source": [
    "---\n",
    "Remember our example from a case for functions? Let's make the code even more concise. "
   ]
  },
  {
   "cell_type": "code",
   "execution_count": null,
   "metadata": {},
   "outputs": [],
   "source": [
    "#define the function\n",
    "def greet(name, temp):\n",
    "    \"\"\"this is my function description\"\"\"\n",
    "    print(\"Hi, {}. It is {}\\N{DEGREE SIGN} outside.\".format(name,temp))"
   ]
  },
  {
   "cell_type": "code",
   "execution_count": null,
   "metadata": {},
   "outputs": [],
   "source": [
    "#create a dictionary that stores user names and temps\n",
    "greet_temp = {\"Jane\":50,\n",
    "              \"Freezy\":0,\n",
    "              \"Beachy\":75,\n",
    "              \"Cray\": -0,\n",
    "              \"Summer\":-95}"
   ]
  },
  {
   "cell_type": "markdown",
   "metadata": {},
   "source": [
    "Dictionaries have a method called `items` that returns a list of tuples, where each tuple is a key-value pair. We can *unpack* the tuple values and store them in separate variables in a very concise manner. "
   ]
  },
  {
   "cell_type": "code",
   "execution_count": null,
   "metadata": {},
   "outputs": [],
   "source": [
    "#call the function\n",
    "for user,temp in greet_temp.items():\n",
    "    greet(user,temp)"
   ]
  },
  {
   "cell_type": "markdown",
   "metadata": {},
   "source": [
    "---\n",
    "### (Tuples,)"
   ]
  },
  {
   "cell_type": "markdown",
   "metadata": {},
   "source": [
    "We saw tuples when learning about the string `.format()` method."
   ]
  },
  {
   "cell_type": "code",
   "execution_count": null,
   "metadata": {},
   "outputs": [],
   "source": [
    "contestant1 = \"Charlie\"\n",
    "contestant2 = \"Ben\"\n",
    "myStr = \"The first place winner is {contestant2} and the runner up is {contestant1}.\".format(contestant1=\"Charlie\",contestant2=\"Ben\")\n",
    "print(myStr)"
   ]
  },
  {
   "cell_type": "code",
   "execution_count": null,
   "metadata": {},
   "outputs": [],
   "source": [
    "#Creating a tuple from a string\n",
    "t = tuple('abcd')"
   ]
  },
  {
   "cell_type": "code",
   "execution_count": null,
   "metadata": {},
   "outputs": [],
   "source": [
    "empty_tuple = ()"
   ]
  },
  {
   "cell_type": "code",
   "execution_count": null,
   "metadata": {},
   "outputs": [],
   "source": [
    "#tuple with one value; note the trailing comma\n",
    "t1 = (\"item1\",)"
   ]
  },
  {
   "cell_type": "markdown",
   "metadata": {},
   "source": [
    "Tuples are immutable, so you can't modify the elements once it has been created. You *can*, however, replace one tuple with another."
   ]
  },
  {
   "cell_type": "code",
   "execution_count": null,
   "metadata": {},
   "outputs": [],
   "source": [
    "t1 = t1 + (\"item2\",)\n",
    "t1"
   ]
  },
  {
   "cell_type": "markdown",
   "metadata": {},
   "source": [
    "We can *unpack* tuples to extract and save their values to individual variables"
   ]
  },
  {
   "cell_type": "code",
   "execution_count": null,
   "metadata": {},
   "outputs": [],
   "source": [
    "x,y = (10,15)\n",
    "print(\"x: \" + str(x))\n",
    "print(\"y: \" + str(y))"
   ]
  },
  {
   "cell_type": "markdown",
   "metadata": {},
   "source": [
    "Which allows us to write more elegant code for tasks like swapping values."
   ]
  },
  {
   "cell_type": "code",
   "execution_count": null,
   "metadata": {},
   "outputs": [],
   "source": [
    "x, y = y, x\n",
    "print(\"x: \" + str(x))\n",
    "print(\"y: \" + str(y))"
   ]
  },
  {
   "cell_type": "markdown",
   "metadata": {},
   "source": [
    "---\n",
    "**COOL!**\n",
    "A function parameter that begins with `*` gathers the arugments into a tuple, allowing the function to accpet a varaible number of arguments. \n",
    " \n",
    "You've seen this behavior before with the `max` function.  \n",
    "\n",
    "Here's another example:"
   ]
  },
  {
   "cell_type": "code",
   "execution_count": null,
   "metadata": {},
   "outputs": [],
   "source": [
    "def printall(*args):\n",
    "    \"\"\"Print all the provided arguments\"\"\"\n",
    "    print(args)"
   ]
  },
  {
   "cell_type": "markdown",
   "metadata": {},
   "source": [
    "**TRY IT** "
   ]
  },
  {
   "cell_type": "code",
   "execution_count": null,
   "metadata": {},
   "outputs": [],
   "source": [
    "#call the printall function with different length paramenter lists"
   ]
  },
  {
   "cell_type": "markdown",
   "metadata": {},
   "source": [
    "---\n",
    "### {S,e,t,s}"
   ]
  },
  {
   "cell_type": "markdown",
   "metadata": {},
   "source": [
    "In math, sets play a huge role in forming the foundation for several mathematical areas of study."
   ]
  },
  {
   "cell_type": "markdown",
   "metadata": {},
   "source": [
    "A list may contain duplicate values. Lists also maintain the element order in which the data was placed. Conversely, sets remove duplicate values and store the data in the manner that is algorithmically optimal, not necessarily the order you dictate. \n",
    "\n",
    "Reference to learn about other available set methods: [Link](https://docs.python.org/3.8/library/stdtypes.html#set-types-set-frozenset)"
   ]
  },
  {
   "cell_type": "code",
   "execution_count": null,
   "metadata": {},
   "outputs": [],
   "source": [
    "s = set('adcb')\n",
    "s"
   ]
  },
  {
   "cell_type": "code",
   "execution_count": null,
   "metadata": {},
   "outputs": [],
   "source": [
    "evens = {2,4,6}\n",
    "type(evens)"
   ]
  },
  {
   "cell_type": "code",
   "execution_count": null,
   "metadata": {},
   "outputs": [],
   "source": [
    "odds = set([1,3,5])\n",
    "print(odds)"
   ]
  },
  {
   "cell_type": "markdown",
   "metadata": {},
   "source": [
    "Sets are mutable, and can be changed one element at a time using `add`, `remove`, `discard`, and `pop` methods."
   ]
  },
  {
   "cell_type": "markdown",
   "metadata": {},
   "source": [
    "You can perform normal iterative operations on sets, just like other collections."
   ]
  },
  {
   "cell_type": "code",
   "execution_count": null,
   "metadata": {},
   "outputs": [],
   "source": [
    "body = {\"eyes\",\"ears\",\"nose\"}\n",
    "for part in body:\n",
    "    print(part)"
   ]
  },
  {
   "cell_type": "code",
   "execution_count": null,
   "metadata": {},
   "outputs": [],
   "source": [
    "if \"eyes\" in body:\n",
    "    print(\"You have eyes.\")"
   ]
  },
  {
   "cell_type": "markdown",
   "metadata": {},
   "source": [
    "Once a set is created, you cannot change its items, but you can add new items."
   ]
  },
  {
   "cell_type": "code",
   "execution_count": null,
   "metadata": {},
   "outputs": [],
   "source": [
    "#to add a single item\n",
    "body.add(\"mouth\")\n",
    "body"
   ]
  },
  {
   "cell_type": "code",
   "execution_count": null,
   "metadata": {},
   "outputs": [],
   "source": [
    "#to add multiple items\n",
    "body.update([\"head\",\"shoulders\",\"knees\",\"toes\",\"knees\",\"toes\"])\n",
    "body"
   ]
  },
  {
   "cell_type": "markdown",
   "metadata": {},
   "source": [
    "❗ Remember, each element in a set is unique!"
   ]
  },
  {
   "cell_type": "markdown",
   "metadata": {},
   "source": [
    "---\n",
    "Mathematical set operations include `union`, `intersection`, `difference`, `symmetric_difference`. "
   ]
  },
  {
   "cell_type": "code",
   "execution_count": null,
   "metadata": {},
   "outputs": [],
   "source": [
    "testSet1 = {\"A\",\"B\",\"C\",\"D\"}\n",
    "testSet2 = {\"D\",\"E\",\"F\",\"G\"}"
   ]
  },
  {
   "cell_type": "code",
   "execution_count": null,
   "metadata": {},
   "outputs": [],
   "source": [
    "#union - merges the two sets together\n",
    "testSet1.union(testSet2)"
   ]
  },
  {
   "cell_type": "code",
   "execution_count": null,
   "metadata": {},
   "outputs": [],
   "source": [
    "#union using infix operator\n",
    "testSet1 | testSet2"
   ]
  },
  {
   "cell_type": "code",
   "execution_count": null,
   "metadata": {},
   "outputs": [],
   "source": [
    "#intersection - elements in BOTH testSet1 and testSet2\n",
    "testSet1.intersection(testSet2)"
   ]
  },
  {
   "cell_type": "code",
   "execution_count": null,
   "metadata": {},
   "outputs": [],
   "source": [
    "testSet2 & testSet1"
   ]
  },
  {
   "cell_type": "code",
   "execution_count": null,
   "metadata": {},
   "outputs": [],
   "source": [
    "#difference - elements in testSet1 NOT in testSet2\n",
    "testSet1.difference(testSet2)"
   ]
  },
  {
   "cell_type": "code",
   "execution_count": null,
   "metadata": {},
   "outputs": [],
   "source": [
    "#elements in testSet2 NOT in testSet1\n",
    "testSet2 - testSet1"
   ]
  },
  {
   "cell_type": "code",
   "execution_count": null,
   "metadata": {},
   "outputs": [],
   "source": [
    "#symmetric difference - in testSet1 or testSet2 and NOT intersection\n",
    "testSet1.symmetric_difference(testSet2)"
   ]
  },
  {
   "cell_type": "markdown",
   "metadata": {},
   "source": [
    "---\n",
    "#### Dictionaries vs Sets, Battle of the Curly Braces!"
   ]
  },
  {
   "cell_type": "markdown",
   "metadata": {},
   "source": [
    "Both dictionaries and sets use curly braces `{}` to encapsulate elements.\n",
    "You can think of a set as the *key* part of a dictionary. In fact:"
   ]
  },
  {
   "cell_type": "code",
   "execution_count": null,
   "metadata": {},
   "outputs": [],
   "source": [
    "food = {\"Fruit\":\"Apple\",\"Veggie\":\"Carrot\"}\n",
    "food_key = set(food)\n",
    "food_key"
   ]
  },
  {
   "cell_type": "markdown",
   "metadata": {},
   "source": [
    "Be careful when creating empty dictionaries and sets."
   ]
  },
  {
   "cell_type": "code",
   "execution_count": null,
   "metadata": {},
   "outputs": [],
   "source": [
    "empty_dictionary = {}\n",
    "empty_dictionary = dict()"
   ]
  },
  {
   "cell_type": "code",
   "execution_count": null,
   "metadata": {},
   "outputs": [],
   "source": [
    "#Can't use empty set of curly braces here!\n",
    "empty_set = set()"
   ]
  }
 ],
 "metadata": {
  "kernelspec": {
   "display_name": "Python 3",
   "language": "python",
   "name": "python3"
  },
  "language_info": {
   "codemirror_mode": {
    "name": "ipython",
    "version": 3
   },
   "file_extension": ".py",
   "mimetype": "text/x-python",
   "name": "python",
   "nbconvert_exporter": "python",
   "pygments_lexer": "ipython3",
   "version": "3.8.3"
  }
 },
 "nbformat": 4,
 "nbformat_minor": 4
}
