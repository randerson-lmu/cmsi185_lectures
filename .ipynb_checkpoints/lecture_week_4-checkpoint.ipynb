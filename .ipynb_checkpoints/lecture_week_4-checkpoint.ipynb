{
 "cells": [
  {
   "cell_type": "markdown",
   "metadata": {},
   "source": [
    "# CMSI-185 Computer Programming\n",
    "## Week 4 - Functions, Strings, and String Manipulation\n",
    "---"
   ]
  },
  {
   "cell_type": "markdown",
   "metadata": {},
   "source": [
    "### Functions \n",
    "Functions help us organize our code and avoid unecessary repetition. We execute a function's body by *calling the function*"
   ]
  },
  {
   "cell_type": "code",
   "execution_count": null,
   "metadata": {},
   "outputs": [],
   "source": [
    "#We've seen plenty of functions already\n",
    "print(\"this is the print function\")"
   ]
  },
  {
   "cell_type": "code",
   "execution_count": null,
   "metadata": {},
   "outputs": [],
   "source": [
    "#this is the type function\n",
    "type(int('1911'))"
   ]
  },
  {
   "cell_type": "markdown",
   "metadata": {},
   "source": [
    "\n",
    "We can even use functions imported from modules."
   ]
  },
  {
   "cell_type": "code",
   "execution_count": null,
   "metadata": {},
   "outputs": [],
   "source": [
    "#method 1\n",
    "import math\n",
    "math.sqrt(2)/2"
   ]
  },
  {
   "cell_type": "code",
   "execution_count": null,
   "metadata": {},
   "outputs": [],
   "source": [
    "#method 2\n",
    "from math import sqrt\n",
    "sqrt(2)/2"
   ]
  },
  {
   "cell_type": "code",
   "execution_count": null,
   "metadata": {},
   "outputs": [],
   "source": [
    "#here's another example of a function (today) imported from a module (datetime)\n",
    "from datetime import date\n",
    "today = date.today()\n",
    "\n",
    "#assign your birthday month (mm) and day (dd) to variables `mm` and `dd`\n",
    "mm, dd = \n",
    "\n",
    "my_bday = date(today.year, mm, dd)\n",
    "if my_bday < today:\n",
    "    my_bday = my_bday.replace(year=today.year + 1)\n",
    "time_to_bday = abs(my_bday - today)\n",
    "time_to_bday"
   ]
  },
  {
   "cell_type": "markdown",
   "metadata": {},
   "source": [
    "---\n",
    "### DRY (Don't Repeat Yourself) \n",
    "DRY is a software engineering principle that focuses on avoiding reptition of information. \n",
    "As we now know, functions are great for this purpose!\n",
    "\n",
    "Two of the strategies for writing clean, DRY code include:\n",
    "1. Write functions for a task that is performed over and over. ✔️\n",
    "2. Use conditional statements to control if and when code is executed. ✔️"
   ]
  },
  {
   "cell_type": "code",
   "execution_count": null,
   "metadata": {},
   "outputs": [],
   "source": [
    "temp, name = 50, \"Jane\"\n",
    "print('Hi, {}. It is {}\\N{DEGREE SIGN} outside.'.format(name,temp)) "
   ]
  },
  {
   "cell_type": "markdown",
   "metadata": {},
   "source": [
    "---\n",
    "### User-Defined Functions\n",
    "\n",
    "We can create our own functions by defining them using the `def` keyword. The syntax for calling a user-defined function is the same as for built-in functions. "
   ]
  },
  {
   "cell_type": "code",
   "execution_count": null,
   "metadata": {},
   "outputs": [],
   "source": [
    "#This function encapsulates the expression in the previous code cell\n",
    "#Remember: the indentation is absolutely mandatory\n",
    "\n",
    "def greeting(name, temp):\n",
    "    print(\"Hi, {}. It is {}\\N{DEGREE SIGN} outside.\".format(name,temp))  "
   ]
  },
  {
   "cell_type": "markdown",
   "metadata": {},
   "source": [
    "A function definition only creates the function object."
   ]
  },
  {
   "cell_type": "code",
   "execution_count": null,
   "metadata": {},
   "outputs": [],
   "source": [
    "type(greeting)"
   ]
  },
  {
   "cell_type": "markdown",
   "metadata": {},
   "source": [
    "You must *call* a function to execute the statements contained in the function body."
   ]
  },
  {
   "cell_type": "code",
   "execution_count": null,
   "metadata": {},
   "outputs": [],
   "source": [
    "#Here's a function call that invokes our user-defined function\n",
    "greeting(\"Jane\", 50)"
   ]
  },
  {
   "cell_type": "markdown",
   "metadata": {},
   "source": [
    "---"
   ]
  },
  {
   "cell_type": "code",
   "execution_count": null,
   "metadata": {},
   "outputs": [],
   "source": [
    "#This function returns a value that is the square of the argument\n",
    "def square_it(x):\n",
    "    return x*x"
   ]
  },
  {
   "cell_type": "code",
   "execution_count": null,
   "metadata": {},
   "outputs": [],
   "source": [
    "square_it(4)"
   ]
  },
  {
   "cell_type": "code",
   "execution_count": null,
   "metadata": {},
   "outputs": [],
   "source": [
    "#what happens when this expression is executed?\n",
    "square_it('4')"
   ]
  },
  {
   "cell_type": "markdown",
   "metadata": {},
   "source": [
    "---\n",
    "Functions can call other functions."
   ]
  },
  {
   "cell_type": "code",
   "execution_count": null,
   "metadata": {},
   "outputs": [],
   "source": [
    "def sum_square(num1, num2):\n",
    "    my_sum = num1 + num2\n",
    "    return square_it(my_sum)"
   ]
  },
  {
   "cell_type": "code",
   "execution_count": null,
   "metadata": {},
   "outputs": [],
   "source": [
    "sum_square(2,2)"
   ]
  },
  {
   "cell_type": "markdown",
   "metadata": {},
   "source": [
    "But remember, the variables created within the body of a function can't be accessed outside that function"
   ]
  },
  {
   "cell_type": "code",
   "execution_count": null,
   "metadata": {},
   "outputs": [],
   "source": [
    "print(my_sum)"
   ]
  },
  {
   "cell_type": "markdown",
   "metadata": {},
   "source": [
    "We can provide default values for input arguments in the parameter list with `=`.\n",
    "\n",
    "Default values are used in the event that input parameters are ommitted during the function call."
   ]
  },
  {
   "cell_type": "code",
   "execution_count": null,
   "metadata": {},
   "outputs": [],
   "source": [
    "def sum_square(num1=3, num2=3):\n",
    "    my_sum = num1 + num2\n",
    "    return square_it(my_sum)"
   ]
  },
  {
   "cell_type": "markdown",
   "metadata": {},
   "source": [
    "---\n",
    "🔍 Now take a look at this function. Does it behave as expected? Why or why not?\n",
    "Try calling the function with different arguments to see how it behaves."
   ]
  },
  {
   "cell_type": "code",
   "execution_count": null,
   "metadata": {},
   "outputs": [],
   "source": [
    "def swap(x,y):\n",
    "    temp = x\n",
    "    x = y\n",
    "    y = temp\n",
    "    print(\"x:\",x,\"at\",hex(id(x)))\n",
    "    print(\"y:\",y,\"at\",hex(id(y)))"
   ]
  },
  {
   "cell_type": "markdown",
   "metadata": {},
   "source": [
    "---\n",
    "### Documentation  & Help"
   ]
  },
  {
   "cell_type": "markdown",
   "metadata": {},
   "source": [
    "Documentation helps us create code that is easy for other programmers to read and understand your code. ***docstrings*** allow us to document our user-defined functions. "
   ]
  },
  {
   "cell_type": "code",
   "execution_count": null,
   "metadata": {},
   "outputs": [],
   "source": [
    "def sum_square(num1, num2):\n",
    "    \"\"\"Return the square of the sum of the two int/float inputs\n",
    "    num1 -- first argument (default 0)\n",
    "    num2 -- second argument (default 0)\n",
    "    \"\"\"\n",
    "    my_sum = num1 + num2\n",
    "    return square_it(my_sum)"
   ]
  },
  {
   "cell_type": "code",
   "execution_count": null,
   "metadata": {},
   "outputs": [],
   "source": [
    "help(sum_square)"
   ]
  },
  {
   "cell_type": "markdown",
   "metadata": {},
   "source": [
    "Not quite sure where to start? `help` to the rescue!"
   ]
  },
  {
   "cell_type": "code",
   "execution_count": null,
   "metadata": {},
   "outputs": [],
   "source": [
    "help()"
   ]
  },
  {
   "cell_type": "markdown",
   "metadata": {},
   "source": [
    "---\n",
    "<a id=Thurs></a>\n",
    "\n",
    "### Strings"
   ]
  },
  {
   "cell_type": "markdown",
   "metadata": {},
   "source": [
    "A string is an ordered sequence of case-sensitive characters. "
   ]
  },
  {
   "cell_type": "code",
   "execution_count": null,
   "metadata": {},
   "outputs": [],
   "source": [
    "myString = \"Iggy\""
   ]
  },
  {
   "cell_type": "markdown",
   "metadata": {},
   "source": [
    "**Concatenation** is when we link a series of strings together. The string concatenation operator is `+`"
   ]
  },
  {
   "cell_type": "code",
   "execution_count": null,
   "metadata": {},
   "outputs": [],
   "source": [
    "myString + myString + myString"
   ]
  },
  {
   "cell_type": "code",
   "execution_count": null,
   "metadata": {},
   "outputs": [],
   "source": [
    "myString + \" \" + \"is my homeboy.\""
   ]
  },
  {
   "cell_type": "markdown",
   "metadata": {},
   "source": [
    "#### Slicing:  \n",
    "You can access the characters in a string using the bracket operator `[]`  \n",
    "The bracket operator accepts three arguments `[start:stop+1:step]`  \n",
    "A segment of a string is called a *slice*."
   ]
  },
  {
   "cell_type": "markdown",
   "metadata": {},
   "source": [
    "---\n",
    "**<font color=blue>TRY IT</font>**  \n",
    "Write expressions to produce the following substrings from testString."
   ]
  },
  {
   "cell_type": "code",
   "execution_count": null,
   "metadata": {},
   "outputs": [],
   "source": [
    "testString = \"banana bread\""
   ]
  },
  {
   "cell_type": "code",
   "execution_count": null,
   "metadata": {},
   "outputs": [],
   "source": [
    "# substring 1: \"ana\""
   ]
  },
  {
   "cell_type": "code",
   "execution_count": null,
   "metadata": {},
   "outputs": [],
   "source": [
    "# substring 2: \"read\""
   ]
  },
  {
   "cell_type": "code",
   "execution_count": null,
   "metadata": {},
   "outputs": [],
   "source": [
    "# substring 3: \"aaa\""
   ]
  },
  {
   "cell_type": "markdown",
   "metadata": {},
   "source": [
    "---"
   ]
  },
  {
   "cell_type": "markdown",
   "metadata": {},
   "source": [
    "#### String Repetition:\n",
    "The `*` operator repeats a string *n* times. "
   ]
  },
  {
   "cell_type": "code",
   "execution_count": null,
   "metadata": {},
   "outputs": [],
   "source": [
    "3*myString"
   ]
  },
  {
   "cell_type": "markdown",
   "metadata": {},
   "source": [
    "---\n",
    "Python provides several built-in methods (simular to a function) to manipulate string objects. We'll explore a few below. "
   ]
  },
  {
   "cell_type": "markdown",
   "metadata": {},
   "source": [
    "**Starts With/Ends With**\n",
    "`.startswith()` and `.endswith()` return Boolean values (i.e., `True` or `False`)"
   ]
  },
  {
   "cell_type": "code",
   "execution_count": null,
   "metadata": {},
   "outputs": [],
   "source": [
    "nextString = \"Monty Python\"\n",
    "nextString.startswith(\"M\")"
   ]
  },
  {
   "cell_type": "code",
   "execution_count": null,
   "metadata": {},
   "outputs": [],
   "source": [
    "nextString.endswith(\"python\")"
   ]
  },
  {
   "attachments": {
    "image.png": {
     "image/png": "[encoded data removed]"
    }
   },
   "cell_type": "markdown",
   "metadata": {},
   "source": [
    "---\n",
    "\n",
    "<div>\n",
    "    <img src=\"attachment:image.png\" width=\"100\">\n",
    "</div>\n",
    "\n",
    "**Split** `.split()` splits a string on the specified delimeter"
   ]
  },
  {
   "cell_type": "code",
   "execution_count": null,
   "metadata": {},
   "outputs": [],
   "source": [
    "fall = \"Pumpkin Spice Everything\"\n",
    "fall.split(' ')"
   ]
  },
  {
   "cell_type": "markdown",
   "metadata": {},
   "source": [
    "***Sneak Peek***..."
   ]
  },
  {
   "cell_type": "code",
   "execution_count": null,
   "metadata": {},
   "outputs": [],
   "source": [
    "myList = fall.split(' ')\n",
    "print(myList[0])\n",
    "print(myList[1])\n",
    "print(myList[2])"
   ]
  },
  {
   "cell_type": "markdown",
   "metadata": {},
   "source": [
    "---"
   ]
  },
  {
   "cell_type": "markdown",
   "metadata": {},
   "source": [
    "#### Format"
   ]
  },
  {
   "cell_type": "markdown",
   "metadata": {},
   "source": [
    "Remember this? Awkward huh?"
   ]
  },
  {
   "cell_type": "code",
   "execution_count": null,
   "metadata": {},
   "outputs": [],
   "source": [
    "first_name, full_name = \"Butter\", \"Butter Cup\"\n",
    "print(\"My first name is\", first_name,\",but my full name is\",full_name,\".\")"
   ]
  },
  {
   "cell_type": "markdown",
   "metadata": {},
   "source": [
    "The `format` method provides greater flexibility for string outputs by specifying placeholders `{}` in the formatted string."
   ]
  },
  {
   "cell_type": "code",
   "execution_count": null,
   "metadata": {},
   "outputs": [],
   "source": [
    "outputString = \"My first name is {}, but my full name is {}.\".format(first_name, full_name)\n",
    "print(outputString)"
   ]
  },
  {
   "cell_type": "markdown",
   "metadata": {},
   "source": [
    "You can also specify formatting for special characters like percent values."
   ]
  },
  {
   "cell_type": "code",
   "execution_count": null,
   "metadata": {},
   "outputs": [],
   "source": [
    "myGrade = \"You scored {:.0%}\".format(0.95)\n",
    "print(myGrade)"
   ]
  },
  {
   "cell_type": "markdown",
   "metadata": {},
   "source": [
    "---\n",
    "**<font color=blue>TRY IT</font>**   Create a function that accepts a string input and returns a string comprised of 4 copies of the first and last letter. For example, provided with the string **\"onion\"**, your function should return **\"onononon\"**"
   ]
  },
  {
   "cell_type": "code",
   "execution_count": null,
   "metadata": {},
   "outputs": [],
   "source": []
  }
 ],
 "metadata": {
  "kernelspec": {
   "display_name": "Python 3",
   "language": "python",
   "name": "python3"
  },
  "language_info": {
   "codemirror_mode": {
    "name": "ipython",
    "version": 3
   },
   "file_extension": ".py",
   "mimetype": "text/x-python",
   "name": "python",
   "nbconvert_exporter": "python",
   "pygments_lexer": "ipython3",
   "version": "3.8.3"
  }
 },
 "nbformat": 4,
 "nbformat_minor": 4
}
