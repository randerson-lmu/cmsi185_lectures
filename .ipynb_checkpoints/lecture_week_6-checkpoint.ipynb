{
 "cells": [
  {
   "cell_type": "markdown",
   "metadata": {},
   "source": [
    "# CMSI-185 Computer Programming\n",
    "## Week 6 - Errors, Exceptions, and Debugging\n",
    "---"
   ]
  },
  {
   "cell_type": "markdown",
   "metadata": {},
   "source": [
    "Simple `print` statements are a great way to quickly and easily inspect the state of your program during execution. "
   ]
  },
  {
   "cell_type": "markdown",
   "metadata": {},
   "source": [
    "---\n",
    "**TRY IT** Use `print` statements to see which branch gets executed during test function calls for 1999, 2000, 2020, and 2035."
   ]
  },
  {
   "cell_type": "markdown",
   "metadata": {},
   "source": [
    "A leap year is exactly divisible by 4 except for century years (years ending with 00). The century year is a leap year only if it is perfectly divisible by 400"
   ]
  },
  {
   "cell_type": "code",
   "execution_count": null,
   "metadata": {},
   "outputs": [],
   "source": [
    "def leap_year(year):\n",
    "    if (year % 4) == 0:\n",
    "        if (year % 100) == 0:\n",
    "            if (year % 400) == 0:\n",
    "                return True\n",
    "            else:\n",
    "                return False\n",
    "        else:\n",
    "            return True\n",
    "    else:\n",
    "        return False"
   ]
  },
  {
   "cell_type": "code",
   "execution_count": null,
   "metadata": {},
   "outputs": [],
   "source": [
    "#Use this cell to execute leap_year function calls"
   ]
  },
  {
   "cell_type": "markdown",
   "metadata": {},
   "source": [
    "---\n",
    "### Debugging Loops\n",
    "\n",
    "**TRY IT** Test this function and find the error. "
   ]
  },
  {
   "cell_type": "code",
   "execution_count": null,
   "metadata": {},
   "outputs": [],
   "source": [
    "def running_sum(inputList):\n",
    "    \"\"\"Modify inputList so that it contains the running sum of its original items.\n",
    "    inputList - Flat list of ints or floats\"\"\"\n",
    "    \n",
    "    for i in range(len(inputList)):\n",
    "        inputList[i]=inputList[i-1]+inputList[i]"
   ]
  },
  {
   "cell_type": "markdown",
   "metadata": {},
   "source": [
    "---"
   ]
  },
  {
   "cell_type": "markdown",
   "metadata": {},
   "source": [
    "#### Here are some tips to keep in mind while debugging:\n",
    "1. Make sure you know what the program is supposed to do.\n",
    "2. Repeat the failure so you can study it.\n",
    "3. Break the code into manageable chunks to determine where things went wrong.\n",
    "4. Change one thing at a time, always for a reason.\n",
    "5. Keep records of everything you test and update to avoid debugging in circles."
   ]
  },
  {
   "cell_type": "markdown",
   "metadata": {},
   "source": [
    "---\n",
    "\n",
    "### `doctest` "
   ]
  },
  {
   "cell_type": "markdown",
   "metadata": {},
   "source": [
    "The `doctest` module searches for pieces of text that look like interactive Python sessions, and then executes those sessions to verify that they work exactly as shown. Recall that the prompt in the Python shell environment is indicated by `>>>`. Look for these symbols in the example below to find the \"interactive Python session\" syntax. "
   ]
  },
  {
   "cell_type": "markdown",
   "metadata": {},
   "source": [
    "Here is an example solution from Homework 2, Problem 2 that uses the doctest module to perform semi-automated testing. "
   ]
  },
  {
   "cell_type": "code",
   "execution_count": null,
   "metadata": {},
   "outputs": [],
   "source": [
    "def compute_area(shape,num):\n",
    "    \"\"\"Compute the area of the specified shape\n",
    "    \n",
    "    >>> compute_area(\"square\",5)\n",
    "    25\n",
    "    >>> compute_area(\"circle\",-4)\n",
    "    -1\n",
    "    \"\"\"\n",
    "    if(shape.lower() == \"circle\" and num > 0):\n",
    "        return pi*(num**2)\n",
    "    elif(shape.lower() == \"square\" and num > 0):\n",
    "        return num**2\n",
    "    else:\n",
    "        return -1"
   ]
  },
  {
   "cell_type": "code",
   "execution_count": null,
   "metadata": {},
   "outputs": [],
   "source": [
    "import doctest\n",
    "doctest.testmod()"
   ]
  },
  {
   "cell_type": "markdown",
   "metadata": {},
   "source": [
    "---"
   ]
  },
  {
   "cell_type": "markdown",
   "metadata": {},
   "source": [
    "**TRY IT!** \n",
    "Write a function called `even_enough` that accepts two inputs: \n",
    "\n",
    "1. a list of integers\n",
    "2. an integer, *n*\n",
    "\n",
    "The function should return `True` if the list contains at least *n* even numbers in it. \n",
    "Otherwise the function should return `False`.\n",
    "\n",
    "Include a concise `docstring` in your function definition that employs the doctest module to define three test cases for your function. "
   ]
  },
  {
   "cell_type": "code",
   "execution_count": null,
   "metadata": {},
   "outputs": [],
   "source": [
    "#Implement your solution here"
   ]
  },
  {
   "cell_type": "markdown",
   "metadata": {},
   "source": [
    "> \"Tests can demonstrate the absence of many bugs, but it cannot prove that a program is fully correct.\""
   ]
  },
  {
   "cell_type": "markdown",
   "metadata": {},
   "source": [
    "---\n",
    "### Exceptions"
   ]
  },
  {
   "cell_type": "markdown",
   "metadata": {},
   "source": [
    "Here's my sample solution from Homework 2 again. It's considered poor form to return special values when errors occur. Instead, we should raise an *exception* when unable to produce a result consistent with the function's specification."
   ]
  },
  {
   "cell_type": "code",
   "execution_count": 7,
   "metadata": {},
   "outputs": [],
   "source": [
    "#version 1\n",
    "from math import pi\n",
    "def compute_area(shape,num):\n",
    "    \"\"\"Compute the area of the specified shape\"\"\"\n",
    "    if(shape.lower() == \"circle\" and num > 0):\n",
    "        return pi*(num**2)\n",
    "    elif(shape.lower() == \"square\" and num > 0):\n",
    "        return num**2\n",
    "    else:\n",
    "        return -1"
   ]
  },
  {
   "cell_type": "markdown",
   "metadata": {},
   "source": [
    "**TRY IT!** Implement the above function so that it raises a ValueError exception instead of returning -1 when the user provides a malformed input"
   ]
  },
  {
   "cell_type": "code",
   "execution_count": null,
   "metadata": {},
   "outputs": [],
   "source": [
    "#version 2 - implement the above solution using ValueError exceptions and exception handling\n"
   ]
  },
  {
   "cell_type": "markdown",
   "metadata": {},
   "source": [
    "---\n",
    "### Assertions"
   ]
  },
  {
   "cell_type": "markdown",
   "metadata": {},
   "source": [
    "Assertions provide a systematic way to check that the internal state of a program is as expected.\n",
    "\n",
    "The code immediately halts execution if an assertion is not met."
   ]
  },
  {
   "cell_type": "code",
   "execution_count": null,
   "metadata": {},
   "outputs": [],
   "source": [
    "inVal = 1\n",
    "\n",
    "assert inVal > 0, 'Value is NOT OK'\n",
    "print(\"Value is OK\")"
   ]
  },
  {
   "cell_type": "markdown",
   "metadata": {},
   "source": [
    "When assignments require you to create a function, I verify the functionality of your solution using a series of carefully selected assertions. Here are the assertions I used for Homework 2, Problem 2."
   ]
  },
  {
   "cell_type": "code",
   "execution_count": 8,
   "metadata": {},
   "outputs": [],
   "source": [
    "assert compute_area(\"circle\",5) == 78.53981633974483\n",
    "assert compute_area(\"Circle\",5) == 78.53981633974483\n",
    "assert compute_area(\"bob\",10) == -1\n",
    "assert compute_area(\"square\",5) == 25\n",
    "assert compute_area(\"SqUaRe\",10) == 100\n",
    "assert compute_area(\"square\", 0) == -1\n",
    "assert compute_area(\"circle\", -4) == -1"
   ]
  },
  {
   "cell_type": "markdown",
   "metadata": {},
   "source": [
    "It's a great idea to use `assert` statements while developing your code to ensure your program is behaving as expected. "
   ]
  }
 ],
 "metadata": {
  "kernelspec": {
   "display_name": "Python 3",
   "language": "python",
   "name": "python3"
  },
  "language_info": {
   "codemirror_mode": {
    "name": "ipython",
    "version": 3
   },
   "file_extension": ".py",
   "mimetype": "text/x-python",
   "name": "python",
   "nbconvert_exporter": "python",
   "pygments_lexer": "ipython3",
   "version": "3.8.3"
  }
 },
 "nbformat": 4,
 "nbformat_minor": 4
}
