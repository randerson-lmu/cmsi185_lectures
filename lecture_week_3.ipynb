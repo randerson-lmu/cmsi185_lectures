{
 "cells": [
  {
   "cell_type": "markdown",
   "metadata": {},
   "source": [
    "# CMSI-185 Computer Programming\n",
    "## Week 3 - Statements, Expressions, and Branching"
   ]
  },
  {
   "cell_type": "markdown",
   "metadata": {},
   "source": [
    "**Reference Material** [Think Python Section 2.3: Expressions and Statements](http://greenteapress.com/thinkpython2/html/thinkpython2003.html#sec18)"
   ]
  },
  {
   "cell_type": "markdown",
   "metadata": {},
   "source": [
    "---"
   ]
  },
  {
   "cell_type": "markdown",
   "metadata": {},
   "source": [
    "### Statements tell Python to *do* something"
   ]
  },
  {
   "cell_type": "code",
   "execution_count": null,
   "metadata": {},
   "outputs": [],
   "source": [
    "#assignment statements\n",
    "width = 18\n",
    "height = 12.0"
   ]
  },
  {
   "cell_type": "markdown",
   "metadata": {},
   "source": [
    "Successive assignment statements *overwrite* the value of the variable"
   ]
  },
  {
   "cell_type": "code",
   "execution_count": null,
   "metadata": {},
   "outputs": [],
   "source": [
    "cat, dog = \"meow\", \"woof\"\n",
    "cat"
   ]
  },
  {
   "cell_type": "code",
   "execution_count": null,
   "metadata": {},
   "outputs": [],
   "source": [
    "cat = \"woof\"\n",
    "print(cat) #the variable cat no longer refers to \"meow\"\n",
    "print(dog)"
   ]
  },
  {
   "cell_type": "markdown",
   "metadata": {},
   "source": [
    "`import` statements search the Python Module Index for the specified module (or piece of code that someone else already wrote) and binds the result of the search to a name in the interpreter's *environment*"
   ]
  },
  {
   "cell_type": "code",
   "execution_count": null,
   "metadata": {},
   "outputs": [],
   "source": [
    "# Python runs all the code in the module datetime\n",
    "import datetime"
   ]
  },
  {
   "cell_type": "code",
   "execution_count": null,
   "metadata": {},
   "outputs": [],
   "source": [
    "print(\"Today is \" + str(datetime.datetime.today()))"
   ]
  },
  {
   "cell_type": "code",
   "execution_count": null,
   "metadata": {},
   "outputs": [],
   "source": [
    "print(\"Today is \" + datetime.datetime.today().strftime(\"%A\"))"
   ]
  },
  {
   "cell_type": "markdown",
   "metadata": {},
   "source": [
    "### Expressions tell Python to *evaluate* something and return the result\n",
    "The syntax for a simple expression is: `<object> <operator> <object>`"
   ]
  },
  {
   "cell_type": "code",
   "execution_count": null,
   "metadata": {},
   "outputs": [],
   "source": [
    "#Calling the function type() to determine the type of today()\n",
    "type(datetime.datetime.today())"
   ]
  },
  {
   "cell_type": "code",
   "execution_count": null,
   "metadata": {},
   "outputs": [],
   "source": [
    "#Calculating the area of a 15 x 4 rectangle\n",
    "area = 15 * 4\n",
    "print(\"The area is:\", area)"
   ]
  },
  {
   "cell_type": "markdown",
   "metadata": {},
   "source": [
    "\n",
    "Nested expressions are evaluated recursively."
   ]
  },
  {
   "cell_type": "code",
   "execution_count": null,
   "metadata": {},
   "outputs": [],
   "source": [
    "from operator import add, sub, mul\n",
    "sub(pow(2, add(2,9)), mul(7,4))"
   ]
  },
  {
   "cell_type": "code",
   "execution_count": null,
   "metadata": {},
   "outputs": [],
   "source": [
    "Message = \"Hello, world!\"\n",
    "Message"
   ]
  },
  {
   "cell_type": "code",
   "execution_count": null,
   "metadata": {},
   "outputs": [],
   "source": [
    "print(Message)"
   ]
  },
  {
   "cell_type": "markdown",
   "metadata": {},
   "source": [
    "**Operator precedence** determines the order in which subexpressions are executed"
   ]
  },
  {
   "cell_type": "code",
   "execution_count": null,
   "metadata": {},
   "outputs": [],
   "source": [
    "#Type a number that represents a temperature in Celsius\n",
    "degrees_fahrenheit = input(\"Temperature Value: \")"
   ]
  },
  {
   "cell_type": "code",
   "execution_count": null,
   "metadata": {},
   "outputs": [],
   "source": [
    "calc1 = degrees_fahrenheit - 32 * 5 / 9\n",
    "calc2 = (degrees_fahrenheit - 32) * 5 / 9\n",
    "print(\"Calculation 1 yields\", calc1, \"while calculation 2 yields\", calc2)"
   ]
  },
  {
   "cell_type": "markdown",
   "metadata": {},
   "source": [
    "\"Statements govern the relationship among different expressions in a program and what happen to the results\" -Composing Programs"
   ]
  },
  {
   "cell_type": "markdown",
   "metadata": {},
   "source": [
    "---"
   ]
  },
  {
   "cell_type": "markdown",
   "metadata": {},
   "source": [
    "### Statements that make choices in our programs are called *control flow statements* because they control the way the computer executes programs. "
   ]
  },
  {
   "cell_type": "markdown",
   "metadata": {},
   "source": [
    "The Boolean type is named in honor of George Boole's work. It only has two possible values `True` or `False`"
   ]
  },
  {
   "cell_type": "code",
   "execution_count": null,
   "metadata": {},
   "outputs": [],
   "source": [
    "type(True)"
   ]
  },
  {
   "cell_type": "code",
   "execution_count": null,
   "metadata": {},
   "outputs": [],
   "source": [
    "type(False)"
   ]
  },
  {
   "cell_type": "markdown",
   "metadata": {},
   "source": [
    "**Comparative operators** allow us to produce Boolean values by comparing objects.\n",
    "\n",
    "It's not much fun to compare literals, so comparison statements almost always involve variables."
   ]
  },
  {
   "cell_type": "markdown",
   "metadata": {},
   "source": [
    "---"
   ]
  },
  {
   "cell_type": "markdown",
   "metadata": {},
   "source": [
    "**TRY IT** *assign values to a and b then run the cells below to compare their values*"
   ]
  },
  {
   "cell_type": "code",
   "execution_count": null,
   "metadata": {},
   "outputs": [],
   "source": [
    "a,b = "
   ]
  },
  {
   "cell_type": "code",
   "execution_count": null,
   "metadata": {},
   "outputs": [],
   "source": [
    "a > b"
   ]
  },
  {
   "cell_type": "code",
   "execution_count": null,
   "metadata": {},
   "outputs": [],
   "source": [
    "a <= b"
   ]
  },
  {
   "cell_type": "markdown",
   "metadata": {},
   "source": [
    "**Boolean expressions** can include the relational operators `==`,`!=`, `<`,`>`,`>=`,`=<`, along with the logical operators `and`, `or`, `is`, `in` and `not`."
   ]
  },
  {
   "cell_type": "markdown",
   "metadata": {},
   "source": [
    "Note: Relational operators have higher precedence than relational operators. Comparisons are evaluated before `and`, `or`, and `not`"
   ]
  },
  {
   "cell_type": "code",
   "execution_count": null,
   "metadata": {},
   "outputs": [],
   "source": [
    "not False"
   ]
  },
  {
   "cell_type": "code",
   "execution_count": null,
   "metadata": {},
   "outputs": [],
   "source": [
    "not True"
   ]
  },
  {
   "cell_type": "code",
   "execution_count": null,
   "metadata": {},
   "outputs": [],
   "source": [
    "x = 2\n",
    "y = 5\n",
    "z = 7"
   ]
  },
  {
   "cell_type": "code",
   "execution_count": null,
   "metadata": {},
   "outputs": [],
   "source": [
    "x<y and y<z"
   ]
  },
  {
   "cell_type": "code",
   "execution_count": null,
   "metadata": {},
   "outputs": [],
   "source": [
    "(x<y) and (y<z)"
   ]
  },
  {
   "cell_type": "markdown",
   "metadata": {},
   "source": [
    "0, \"\", `None`, and `False` evaluate to `False`. \n",
    "Everything else evaluates to `True`."
   ]
  },
  {
   "cell_type": "code",
   "execution_count": null,
   "metadata": {},
   "outputs": [],
   "source": [
    "x > False"
   ]
  },
  {
   "cell_type": "markdown",
   "metadata": {},
   "source": [
    "`is` and `is not` operators check whether two variables point to the same object.\n",
    "`==` compares the value or equality of two objects\n",
    "\n",
    "Note: Objects with the same value are *usually* stored at separate memory addresses."
   ]
  },
  {
   "cell_type": "code",
   "execution_count": null,
   "metadata": {},
   "outputs": [],
   "source": [
    "a = 'drawer'\n",
    "b = 'drawer'\n",
    "\n",
    "a == b"
   ]
  },
  {
   "cell_type": "code",
   "execution_count": null,
   "metadata": {},
   "outputs": [],
   "source": [
    "a is b"
   ]
  },
  {
   "cell_type": "markdown",
   "metadata": {},
   "source": [
    "---"
   ]
  },
  {
   "cell_type": "markdown",
   "metadata": {},
   "source": [
    "Now let's introduce a new `string` operator that helps us identify substrings"
   ]
  },
  {
   "cell_type": "code",
   "execution_count": null,
   "metadata": {},
   "outputs": [],
   "source": [
    "\"orange\" in \"orange juice\""
   ]
  },
  {
   "cell_type": "code",
   "execution_count": null,
   "metadata": {},
   "outputs": [],
   "source": [
    "\"you\" not in \"class\""
   ]
  },
  {
   "cell_type": "markdown",
   "metadata": {},
   "source": [
    "---"
   ]
  },
  {
   "cell_type": "markdown",
   "metadata": {},
   "source": [
    "## Conditionals"
   ]
  },
  {
   "cell_type": "markdown",
   "metadata": {},
   "source": [
    "A conditional statement in Python consists of a series of *headers* and *suites*: a required `if` clause, an optional sequence of `elif` clauses, and finally an optional `else` clause:\n",
    "\n",
    "`if <boolean expression>:\n",
    "    <suite>\n",
    "elif <boolean expression>:\n",
    "    <suite>\n",
    "else:\n",
    "    <suite>`\n",
    "    \n",
    "The boolean expressions in the above if and elif statements are also called called *boolean contexts*."
   ]
  },
  {
   "cell_type": "markdown",
   "metadata": {},
   "source": [
    "---\n",
    "#### Birthday Celebration Station"
   ]
  },
  {
   "cell_type": "code",
   "execution_count": null,
   "metadata": {},
   "outputs": [],
   "source": [
    "import datetime\n",
    "today_date = datetime.datetime.today()\n",
    "current_month = today_date.strftime(\"%B\")\n",
    "current_month_num = today_date.month\n",
    "\n",
    "bday_month = input(\"What month were you born?  \")\n",
    "\n",
    "if (bday_month == current_month):\n",
    "    print(\"🎉 Happy Birthday Month! 🎉\")\n",
    "else:\n",
    "    bday_month_num = datetime.datetime.strptime(bday_month,\"%B\").month\n",
    "    \n",
    "    if ((bday_month_num - current_month_num) > 0 ): \n",
    "        remaining = bday_month_num - current_month_num\n",
    "    else:\n",
    "        remaining = (12 - current_month_num) + bday_month_num\n",
    "        \n",
    "    if (remaining == 1):\n",
    "        print(\"It's almost your birthday month! Yay!\")\n",
    "    else:\n",
    "        print(\"Your birthday is in\",remaining,\"months. Woot!\")"
   ]
  },
  {
   "cell_type": "code",
   "execution_count": null,
   "metadata": {},
   "outputs": [],
   "source": [
    "#password checker\n",
    "password = input(\"Enter password: \")\n",
    "if password == \"mypwd\":\n",
    "    print(\"Welcome\")\n",
    "else:\n",
    "    print(\"Sorry, that's the wrong password\")"
   ]
  },
  {
   "cell_type": "markdown",
   "metadata": {},
   "source": [
    "---\n",
    "**TRY IT!**\n",
    "Create a password checker that is a bit friendlier than the one shown above. It should:\n",
    " - Accept the password if it is correct\n",
    " - Provide feedback to the user if the password uses the wrong capitalization on the first character\n",
    " - Provide feedback to the user if the password includes a period at the end\n",
    " - Otherwise, reject the password"
   ]
  },
  {
   "cell_type": "code",
   "execution_count": null,
   "metadata": {},
   "outputs": [],
   "source": [
    "# Type your code here"
   ]
  }
 ],
 "metadata": {
  "kernelspec": {
   "display_name": "Python 3",
   "language": "python",
   "name": "python3"
  },
  "language_info": {
   "codemirror_mode": {
    "name": "ipython",
    "version": 3
   },
   "file_extension": ".py",
   "mimetype": "text/x-python",
   "name": "python",
   "nbconvert_exporter": "python",
   "pygments_lexer": "ipython3",
   "version": "3.8.3"
  }
 },
 "nbformat": 4,
 "nbformat_minor": 4
}
