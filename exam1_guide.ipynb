{
 "cells": [
  {
   "cell_type": "markdown",
   "metadata": {},
   "source": [
    "# CMSI 185.06 Exam 1 Preparation Guide\n",
    "- **Exam Date**: October 13, 2020\n",
    "- **Topics Covered**: Python Basics, Control Flow, Functions, and Data Structures\n",
    "---"
   ]
  },
  {
   "cell_type": "markdown",
   "metadata": {},
   "source": [
    "## Logistics\n",
    "- The exam will be available beginning at 4pm on October 13th\n",
    "- The exam duration is 1.5 hours, you will have 24 hours to access the exam.\n",
    "- You will access the exam via the quiz module in Brightspace."
   ]
  },
  {
   "cell_type": "markdown",
   "metadata": {},
   "source": [
    "## Preparation\n",
    "- Try to answer the questions before running the cell to execute the code. You won't have an IDE during the exam, so ensure you thoroughly understand why each line of code behaves the way it does. \n",
    "- You are responsible for understanding all the concepts covered thus far in the course. \n",
    "- In addition to the examples provided below, ensure you understand all the examples provided during lecture, both in the slide and the lecture notebooks. "
   ]
  },
  {
   "cell_type": "markdown",
   "metadata": {},
   "source": [
    "---"
   ]
  },
  {
   "cell_type": "markdown",
   "metadata": {},
   "source": [
    "**True or False**\n",
    "1. All the elements of a list must be of the same type\n",
    "2. Python sequences are zero-indexed\n",
    "3. Dictionaries are an immutable data type\n",
    "4. The value 5 is an integer type object\n",
    "5. A syntax error produces unexpected values during program execution"
   ]
  },
  {
   "cell_type": "markdown",
   "metadata": {},
   "source": [
    "---\n",
    "What value or error will be returned by Python for each of the following expressions?"
   ]
  },
  {
   "cell_type": "code",
   "execution_count": null,
   "metadata": {},
   "outputs": [],
   "source": [
    "9 - 3\n",
    "9 / -2.0\n",
    "4 + 3 * 5\n",
    "(4 + 3) * 5\n",
    "9 % 2\n",
    "\"lions\" + 3 + \"tigers\"\n",
    "\"I\" not in \"team\" or \"seeds\" in \"grapes\"\n",
    "{\"lions\",\"tigers\",\"bears\",\"more\",\"lions\"}"
   ]
  },
  {
   "cell_type": "markdown",
   "metadata": {},
   "source": [
    "---\n",
    "What is the output of the following code?"
   ]
  },
  {
   "cell_type": "code",
   "execution_count": null,
   "metadata": {},
   "outputs": [],
   "source": [
    "var1 = 1\n",
    "var2 = 2\n",
    "var3 = \"3\"\n",
    "print(var1 + var2 + var3)"
   ]
  },
  {
   "cell_type": "markdown",
   "metadata": {},
   "source": [
    "---\n",
    "Consider the following list of strings. Write the slicing statements that produce each of the outputs below.\n",
    "`words = ['I','got','this','you','got','this']"
   ]
  },
  {
   "cell_type": "code",
   "execution_count": null,
   "metadata": {},
   "outputs": [],
   "source": [
    "#1 \"this\"\n",
    "#2 \"I got this\"\n",
    "#3 \"you got this\"\n",
    "#4 \"got you this\""
   ]
  },
  {
   "cell_type": "markdown",
   "metadata": {},
   "source": [
    "---\n",
    "Choose a number between 1 and 10 and assign it to the variable `secret`. Then, select another integer between 1 and 10 and assign it to the variable `guess`. Next, write a conditional statement to print the sting `too low` if `guess` is less than `secret`, `too high` if greater than `secret`, and `just right` if equal to `secret`."
   ]
  },
  {
   "cell_type": "code",
   "execution_count": null,
   "metadata": {},
   "outputs": [],
   "source": []
  },
  {
   "cell_type": "markdown",
   "metadata": {},
   "source": [
    "---\n",
    "Write one line of code that asks a user for a song recommendation and save their input to a purposefully-named variable."
   ]
  },
  {
   "cell_type": "code",
   "execution_count": null,
   "metadata": {},
   "outputs": [],
   "source": []
  },
  {
   "cell_type": "markdown",
   "metadata": {},
   "source": [
    "---\n",
    "Write a function that:\n",
    "- Is named `no vowels`\n",
    "- Accepts one string arugment that defaults to empty string\n",
    "- Returns a new string based on the input argument, but with all the vowels (a,e,i,o,u) removed\n",
    "- Has documentation"
   ]
  },
  {
   "cell_type": "code",
   "execution_count": null,
   "metadata": {},
   "outputs": [],
   "source": []
  },
  {
   "cell_type": "markdown",
   "metadata": {},
   "source": [
    "---\n",
    "The results of the burrito-eating contest are in. The winners are Harold Hotsauce, Chester McCheesy, and Gerald Grilly. Use the string formatting method (i.e., `.format`) to print the winner's names, one name on each line."
   ]
  },
  {
   "cell_type": "code",
   "execution_count": null,
   "metadata": {},
   "outputs": [],
   "source": []
  },
  {
   "cell_type": "markdown",
   "metadata": {},
   "source": [
    "---\n",
    "What is the result of the following code?"
   ]
  },
  {
   "cell_type": "code",
   "execution_count": null,
   "metadata": {},
   "outputs": [],
   "source": [
    "def calculate (num1, num2=4):\n",
    "  res = num1 * num2\n",
    "  print(res)\n",
    "\n",
    "calculate(5, 6)"
   ]
  }
 ],
 "metadata": {
  "kernelspec": {
   "display_name": "Python 3",
   "language": "python",
   "name": "python3"
  },
  "language_info": {
   "codemirror_mode": {
    "name": "ipython",
    "version": 3
   },
   "file_extension": ".py",
   "mimetype": "text/x-python",
   "name": "python",
   "nbconvert_exporter": "python",
   "pygments_lexer": "ipython3",
   "version": "3.8.3"
  }
 },
 "nbformat": 4,
 "nbformat_minor": 4
}
