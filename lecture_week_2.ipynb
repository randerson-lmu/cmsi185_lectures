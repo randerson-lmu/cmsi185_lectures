{
 "cells": [
  {
   "cell_type": "markdown",
   "metadata": {},
   "source": [
    "# CMSI-185 Computer Programming\n",
    "## Week 2 - Values, Types, and Variables"
   ]
  },
  {
   "cell_type": "markdown",
   "metadata": {},
   "source": [
    "- Welcome to Jupyter! Use the toolbar above or look in the *Help* menu for keyboard shortcuts\n",
    "- `cntrl + enter` (on Windows and Linux) will run the cell\n",
    "---\n",
    "### Everything in Python is an object, and all objects are of some **type**\n",
    "\n",
    "We can use a Python tool (which we'll soon refer to as a function) `type()` to interrogate the type of a value."
   ]
  },
  {
   "cell_type": "code",
   "execution_count": null,
   "metadata": {},
   "outputs": [],
   "source": [
    "#integers are counting numbers\n",
    "type(3)"
   ]
  },
  {
   "cell_type": "code",
   "execution_count": null,
   "metadata": {},
   "outputs": [],
   "source": [
    "#floating point numbers are decimal numbers\n",
    "type(3.0)"
   ]
  },
  {
   "cell_type": "markdown",
   "metadata": {},
   "source": [
    "- Recall that we can use the Python interpreter as a simple calculator"
   ]
  },
  {
   "cell_type": "code",
   "execution_count": null,
   "metadata": {},
   "outputs": [],
   "source": [
    "3 + 4"
   ]
  },
  {
   "cell_type": "markdown",
   "metadata": {},
   "source": [
    "- Not suprisingly, the addition of two integers yields a solution that is also an integer"
   ]
  },
  {
   "cell_type": "code",
   "execution_count": null,
   "metadata": {},
   "outputs": [],
   "source": [
    "#this will show us the type of the solution\n",
    "type(3 + 4)"
   ]
  },
  {
   "cell_type": "markdown",
   "metadata": {},
   "source": [
    "- Python only applies operators to objects of the same type, so if you provide different types, the interpreter will employ implicit type conversion if it can"
   ]
  },
  {
   "cell_type": "code",
   "execution_count": null,
   "metadata": {},
   "outputs": [],
   "source": [
    "#This adds an int to a float. \n",
    "#Before performing the addition operation, \n",
    "#the Python interpreter will convert the int to a float, producing a float solution.\n",
    "type(7 + 3.1459)"
   ]
  },
  {
   "cell_type": "markdown",
   "metadata": {},
   "source": [
    "You may not be familiar with `//`, `%`, and `**`"
   ]
  },
  {
   "cell_type": "markdown",
   "metadata": {},
   "source": [
    "- `//` performs floor division\n",
    "- It discards fractional result and produces `int` result\n",
    "- As opposed to `/` which always returns a `float`"
   ]
  },
  {
   "cell_type": "code",
   "execution_count": null,
   "metadata": {},
   "outputs": [],
   "source": [
    "type(4/2)"
   ]
  },
  {
   "cell_type": "code",
   "execution_count": null,
   "metadata": {},
   "outputs": [],
   "source": [
    "type(4//2)"
   ]
  },
  {
   "cell_type": "code",
   "execution_count": null,
   "metadata": {},
   "outputs": [],
   "source": [
    "# Use when you need an integer result\n",
    "# 17/3 is 5.667, but\n",
    "17//3"
   ]
  },
  {
   "cell_type": "markdown",
   "metadata": {},
   "source": [
    "- `%` produces the remainder and `**` performs exponentiation"
   ]
  },
  {
   "cell_type": "code",
   "execution_count": null,
   "metadata": {},
   "outputs": [],
   "source": [
    "# remainder\n",
    "17%3"
   ]
  },
  {
   "cell_type": "code",
   "execution_count": null,
   "metadata": {},
   "outputs": [],
   "source": [
    "# power operator\n",
    "2**5"
   ]
  },
  {
   "cell_type": "markdown",
   "metadata": {},
   "source": [
    "Strings are sequences of characters created with single `''` or double `\"\"` quotes"
   ]
  },
  {
   "cell_type": "code",
   "execution_count": null,
   "metadata": {},
   "outputs": [],
   "source": [
    "type(\"cmsi185\")"
   ]
  },
  {
   "cell_type": "markdown",
   "metadata": {},
   "source": [
    "- Strings are *indexed*, which allows us to access the characters in the string"
   ]
  },
  {
   "cell_type": "code",
   "execution_count": null,
   "metadata": {},
   "outputs": [],
   "source": [
    "#this creates a string with the value \"my_string\"\n",
    "#then the `[]` accesses the first character (or element) of the string\n",
    "\"my_string\"[0]"
   ]
  },
  {
   "cell_type": "code",
   "execution_count": null,
   "metadata": {},
   "outputs": [],
   "source": [
    "# Guess what this output will be before running the cell\n",
    "\"my_string\"[2]"
   ]
  },
  {
   "cell_type": "code",
   "execution_count": null,
   "metadata": {},
   "outputs": [],
   "source": [
    "# You can also access the string from the end instead of the beginning\n",
    "# Just index from -1\n",
    "\"my_string\"[-1]"
   ]
  },
  {
   "cell_type": "markdown",
   "metadata": {},
   "source": [
    "- **Slicing** is when we access multiple, subsequent characters in a string"
   ]
  },
  {
   "cell_type": "code",
   "execution_count": null,
   "metadata": {},
   "outputs": [],
   "source": [
    "# This will print the entire string\n",
    "\"abcd1234\"[:]"
   ]
  },
  {
   "cell_type": "code",
   "execution_count": null,
   "metadata": {},
   "outputs": [],
   "source": [
    "# This will print the first three characters\n",
    "print(\"abcd1234\"[0:3])"
   ]
  },
  {
   "cell_type": "code",
   "execution_count": null,
   "metadata": {},
   "outputs": [],
   "source": [
    "# And so will this (because an ommitted starting index defaults to 0)\n",
    "\"abcd1234\"[:3]"
   ]
  },
  {
   "cell_type": "markdown",
   "metadata": {},
   "source": [
    "*Note: The starting index is always included, while the ending index is always excluded"
   ]
  },
  {
   "cell_type": "markdown",
   "metadata": {},
   "source": [
    "- And remember, Python strings are *immutable*, so you **cannot** change the value of a character once the string has been created"
   ]
  },
  {
   "cell_type": "code",
   "execution_count": null,
   "metadata": {},
   "outputs": [],
   "source": [
    "# Our dear friend, the assignment operator\n",
    "# Here, we try to assign the character \"b\" to the first slot and \"abbb\"\n",
    "# Since strings are immutable, all this does is make Python upset\n",
    "\"abbb\"[0] = \"b\""
   ]
  },
  {
   "cell_type": "markdown",
   "metadata": {},
   "source": [
    "- Another built-in tool (or function) is called `len()`\n",
    "- It tells us the length of a string between the parenthesis"
   ]
  },
  {
   "cell_type": "code",
   "execution_count": null,
   "metadata": {},
   "outputs": [],
   "source": [
    "len(\"supercalifragilisticexpialidocious\")"
   ]
  },
  {
   "cell_type": "markdown",
   "metadata": {},
   "source": [
    "Well what if you need to work with different types?\n",
    "1. Python performs implicit type conversion when appropriate\n",
    "2. You can perform explicit type conversion through *type casting*\n",
    "    - So far we've discussed `int()`, `float()`, and `str()`"
   ]
  },
  {
   "cell_type": "code",
   "execution_count": null,
   "metadata": {},
   "outputs": [],
   "source": [
    "# Convert an object to a string with str()\n",
    "print(str(7), \"is of type\", type(str(7)))"
   ]
  },
  {
   "cell_type": "code",
   "execution_count": null,
   "metadata": {},
   "outputs": [],
   "source": [
    "# Convert an object to a float with float()\n",
    "print(float(7), \"is of type\", type(float(7)))"
   ]
  },
  {
   "cell_type": "code",
   "execution_count": null,
   "metadata": {},
   "outputs": [],
   "source": [
    "# Convert an object to an integer with int()\n",
    "print(int(3.4), \"is of type\", type(int(3.4)))"
   ]
  },
  {
   "cell_type": "markdown",
   "metadata": {},
   "source": [
    "---\n",
    "### Now let's talk about variables\n",
    "- A **variable** is a name that helps us *refer* to an object in a more natural way.\n",
    "- You create a variable using the *assignment operator*, like this `variable_name = object`\n",
    "- This is called an *assignment statement*"
   ]
  },
  {
   "cell_type": "code",
   "execution_count": null,
   "metadata": {},
   "outputs": [],
   "source": [
    "#this creates a variable named mascot, which refers to a string with value \"Iggy\"\n",
    "mascot = \"Iggy\"\n",
    "\"Sup, \" + mascot"
   ]
  },
  {
   "cell_type": "markdown",
   "metadata": {},
   "source": [
    "The assigned reading from *Composing Programs* discussed **modules**, which are just packages of code that we can reuse (yay! less work for us!).\n",
    "\n",
    "- We access the content within a module by *importing* it into our programs\n",
    "\n",
    "- If the module has variables, we can import those too (double yay!)"
   ]
  },
  {
   "cell_type": "code",
   "execution_count": null,
   "metadata": {},
   "outputs": [],
   "source": [
    "#this imports the variable pi from the math module\n",
    "from math import pi\n",
    "pi"
   ]
  },
  {
   "cell_type": "markdown",
   "metadata": {},
   "source": [
    "\"In this way, complex programs are constructed by building, step by step, computational objects of increasing complexity.\" - Composing Programs, Section 1.2"
   ]
  },
  {
   "cell_type": "markdown",
   "metadata": {},
   "source": [
    "### Everything in Python is an object...just in case you forgot\n",
    "This means that we can bind (or assign) variable names to values *or* functions..."
   ]
  },
  {
   "cell_type": "code",
   "execution_count": null,
   "metadata": {},
   "outputs": [],
   "source": [
    "piPlus = pi + 1 #adds 1 to pi and saves to varaible piPlus\n",
    "piPlus"
   ]
  },
  {
   "cell_type": "code",
   "execution_count": null,
   "metadata": {},
   "outputs": [],
   "source": [
    "# let's interrogate the type of \"max\"\n",
    "type(max)"
   ]
  },
  {
   "cell_type": "markdown",
   "metadata": {},
   "source": [
    "Ok, so `max()` is a builtin function/method (read *Python tool*). "
   ]
  },
  {
   "cell_type": "code",
   "execution_count": null,
   "metadata": {},
   "outputs": [],
   "source": [
    "# the `max` function tells you the maximum value provided between the ()\n",
    "max(pi, piPlus)"
   ]
  },
  {
   "cell_type": "markdown",
   "metadata": {},
   "source": [
    "But that, too, is an object. So we *can* assign a variable to it. "
   ]
  },
  {
   "cell_type": "code",
   "execution_count": null,
   "metadata": {},
   "outputs": [],
   "source": [
    "pi = max\n",
    "pi  #so now, the variable pi refers to the function max!"
   ]
  },
  {
   "cell_type": "code",
   "execution_count": null,
   "metadata": {},
   "outputs": [],
   "source": [
    "max = piPlus #so now, the variable max refers to the object referred to by piPlus!\n",
    "print(max)\n",
    "type(max)"
   ]
  },
  {
   "cell_type": "markdown",
   "metadata": {},
   "source": [
    "Uh oh...we changed `max` from a function to a float and a well-known variable `pi` from a float to a function. \n",
    "\n",
    "CAUTION! Python will let you do this, **but don't**. Really...just don't."
   ]
  },
  {
   "cell_type": "code",
   "execution_count": null,
   "metadata": {},
   "outputs": [],
   "source": [
    "#now you've lost access to the built-in function. uh oh...\n",
    "max(pi,piPlus)"
   ]
  },
  {
   "cell_type": "markdown",
   "metadata": {},
   "source": [
    "You can re-import the variable `pi` and the function `max()` to restore their original references"
   ]
  },
  {
   "cell_type": "code",
   "execution_count": null,
   "metadata": {},
   "outputs": [],
   "source": [
    "from math import pi\n",
    "from builtins import max"
   ]
  },
  {
   "cell_type": "code",
   "execution_count": null,
   "metadata": {},
   "outputs": [],
   "source": [
    "#now we can use the built-in max function and the variable pi. phew...\n",
    "max(pi,piPlus)"
   ]
  },
  {
   "cell_type": "markdown",
   "metadata": {},
   "source": [
    "---\n",
    "**Self Assignment** allows us to use the same variable on both sides of the assignment operator"
   ]
  },
  {
   "cell_type": "code",
   "execution_count": null,
   "metadata": {},
   "outputs": [],
   "source": [
    "students = 10              #initial number of students\n",
    "students = students + 1    #add 1 to the number of students\n",
    "students += 1              #shortcut method to add one \n",
    "students"
   ]
  },
  {
   "cell_type": "markdown",
   "metadata": {},
   "source": [
    "**Multiple Assignment** allows us to assign values to multiple varibles at the same time"
   ]
  },
  {
   "cell_type": "code",
   "execution_count": null,
   "metadata": {},
   "outputs": [],
   "source": [
    "me, you = \"A\",\"A+\"\n",
    "print(\"I earned an\", me, \"and you earned an\", you)"
   ]
  },
  {
   "cell_type": "code",
   "execution_count": null,
   "metadata": {
    "scrolled": true
   },
   "outputs": [],
   "source": [
    "me = you = \"A+\"\n",
    "print(\"I earned an\", me, \"and you earned an\", you)"
   ]
  }
 ],
 "metadata": {
  "kernelspec": {
   "display_name": "Python 3",
   "language": "python",
   "name": "python3"
  },
  "language_info": {
   "codemirror_mode": {
    "name": "ipython",
    "version": 3
   },
   "file_extension": ".py",
   "mimetype": "text/x-python",
   "name": "python",
   "nbconvert_exporter": "python",
   "pygments_lexer": "ipython3",
   "version": "3.8.3"
  }
 },
 "nbformat": 4,
 "nbformat_minor": 4
}
