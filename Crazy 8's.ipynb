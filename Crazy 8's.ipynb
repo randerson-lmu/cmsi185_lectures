{
 "cells": [
  {
   "cell_type": "markdown",
   "metadata": {},
   "source": [
    "### Dealer"
   ]
  },
  {
   "cell_type": "code",
   "execution_count": null,
   "metadata": {},
   "outputs": [],
   "source": [
    "import random\n",
    "class dealer:\n",
    "    def __init__(self):\n",
    "        #create deck of cards as list of tuples\n",
    "        self.base_deck = []\n",
    "        self.suit = [\"Spade\",\"Heart\",\"Club\",\"Diamond\"]\n",
    "        self.value = [\"Ace\",\"1\",\"2\",\"3\",\"4\",\"5\",\"6\",\"7\",\"8\",\"9\",\"Jack\",\"Queen\",\"King\"]\n",
    "        for i in self.suit:\n",
    "            for j in self.value:\n",
    "                self.base_deck.append((i,j))\n",
    "\n",
    "        #shuffle the deck\n",
    "        random.shuffle(self.base_deck)\n",
    "\n",
    "        #initialize discard deck\n",
    "        self.discard_deck = self.base_deck[:1]\n",
    "        del self.base_deck[:1]\n",
    "\n",
    "    def deal_cards(self, num):\n",
    "        #remove num cards from deck\n",
    "        cards = self.base_deck[:num]\n",
    "        del self.base_deck[:num]\n",
    "        return cards\n",
    "\n",
    "    def play_card(self, card):\n",
    "        #add card to discard pile\n",
    "        self.discard_deck.append(card)\n",
    "\n",
    "    def card_in_play(self):\n",
    "        return self.discard_deck[-1]\n",
    "    \n",
    "    def count(self):\n",
    "        return(len(self.base_deck))"
   ]
  },
  {
   "cell_type": "markdown",
   "metadata": {},
   "source": [
    "## Computer"
   ]
  },
  {
   "cell_type": "code",
   "execution_count": null,
   "metadata": {},
   "outputs": [],
   "source": [
    "class game:\n",
    "    \"\"\"Plays against player\"\"\"\n",
    "    def __init__(self):\n",
    "        self.hand = []\n",
    "        \n",
    "    def make_play(self, in_play):\n",
    "        #find eligible card in hand\n",
    "        for card in self.hand:\n",
    "            if card[0] == in_play[0]: #suits are the same\n",
    "                self.hand.remove(card)\n",
    "                return card\n",
    "            elif card[1] == in_play[1]: #values are the same\n",
    "                self.hand.remove(card)\n",
    "                return card\n",
    "            elif card[1] == \"8\": #crazy 8\n",
    "                self.hand.remove(card)\n",
    "                return card\n",
    "        print(\"No card for computer\")\n",
    "        return\n",
    "\n",
    "    def count(self):\n",
    "        return len(self.hand)\n",
    "    \n",
    "    def add_cards(self,cards):\n",
    "        self.hand.extend(cards)"
   ]
  },
  {
   "cell_type": "markdown",
   "metadata": {},
   "source": [
    "## Player"
   ]
  },
  {
   "cell_type": "code",
   "execution_count": null,
   "metadata": {},
   "outputs": [],
   "source": [
    "class player:\n",
    "    \"\"\"Maintains player's hand and executes plays\"\"\"\n",
    "    def __init__(self):\n",
    "        self.hand = []\n",
    "        \n",
    "    def display_hand(self):\n",
    "        print(\"Cards:\")\n",
    "        for i in self.hand:\n",
    "            print(i)\n",
    "\n",
    "    def make_play(self, card, in_play):\n",
    "        \n",
    "        if card in self.hand:\n",
    "            if card[0] == in_play[0]: #suits are the same\n",
    "                self.hand.remove(card)\n",
    "                return  card\n",
    "            elif card[1] == in_play[1]: #values are the same\n",
    "                self.hand.remove(card)\n",
    "                return card\n",
    "            elif card[1] == \"8\": #crazy 8\n",
    "                self.hand.remove(card)\n",
    "                return card\n",
    "        return\n",
    "    \n",
    "    def count(self):\n",
    "        return len(self.hand)\n",
    "    \n",
    "    def add_cards(self,cards):\n",
    "        self.hand.extend(cards)"
   ]
  },
  {
   "cell_type": "code",
   "execution_count": null,
   "metadata": {},
   "outputs": [],
   "source": [
    "def in_play():\n",
    "    return c8_dealer.card_in_play()"
   ]
  },
  {
   "cell_type": "code",
   "execution_count": null,
   "metadata": {},
   "outputs": [],
   "source": [
    "def player_play():\n",
    "    c8_player.display_hand()\n",
    "    inCard = input(\"\\nPick a card from your hand or type quit to exit: \" )\n",
    "    if inCard == \"quit\":\n",
    "        return \"quit\"\n",
    "    else:\n",
    "        inCard = tuple(inCard.split())\n",
    "        card = c8_player.make_play(inCard, in_play())\n",
    "        if (card):\n",
    "            c8_dealer.play_card(card)\n",
    "        else:\n",
    "            if c8_dealer.count() == 0:\n",
    "                return \"empty\"\n",
    "            else:\n",
    "                card = c8_dealer.deal_cards(1)\n",
    "                c8_player.add_cards(card)"
   ]
  },
  {
   "cell_type": "code",
   "execution_count": null,
   "metadata": {},
   "outputs": [],
   "source": [
    "def game_play():\n",
    "    card = c8_opponent.make_play(in_play())\n",
    "    if (card):\n",
    "        c8_dealer.play_card(card)\n",
    "    else:\n",
    "        if c8_dealer.count() == 0:\n",
    "            return \"empty\"\n",
    "        else:\n",
    "            card = c8_dealer.deal_cards(1)\n",
    "            c8_opponent.add_cards(card)"
   ]
  },
  {
   "cell_type": "code",
   "execution_count": null,
   "metadata": {},
   "outputs": [],
   "source": [
    "c8_dealer = dealer()\n",
    "\n",
    "c8_opponent = game()\n",
    "c8_opponent.add_cards(c8_dealer.deal_cards(7))\n",
    "\n",
    "c8_player = player()\n",
    "c8_player.add_cards(c8_dealer.deal_cards(7))\n",
    "\n",
    "print(\"Setup Complete. Enjoy the game!\")"
   ]
  },
  {
   "cell_type": "code",
   "execution_count": null,
   "metadata": {},
   "outputs": [],
   "source": [
    "from IPython.display import clear_output\n",
    "\n",
    "while(c8_player.count() > 0 and c8_opponent.count() > 0):\n",
    "    print(\"Card In Play Is:\", in_play(),\"\\n\")\n",
    "    print(\"Computer has\", c8_opponent.count(), \"cards remaining.\\n\")\n",
    "    stat = player_play()\n",
    "    if (stat == \"quit\" or stat == \"empty\"):\n",
    "        print(\"...Exiting...\")\n",
    "        break\n",
    "    stat = game_play()\n",
    "    if stat == \"empty\":\n",
    "        print(\"...Exiting...\")\n",
    "        break\n",
    "    #clear_output(wait=True)\n",
    "    \n",
    "if (c8_player.count() == 0):\n",
    "    print(\"Yay! You won!\")\n",
    "elif(c8_opponent.count() == 0):\n",
    "    print(\"Computer won. Better luck next time!\")"
   ]
  },
  {
   "cell_type": "code",
   "execution_count": null,
   "metadata": {},
   "outputs": [],
   "source": []
  }
 ],
 "metadata": {
  "kernelspec": {
   "display_name": "Python 3",
   "language": "python",
   "name": "python3"
  },
  "language_info": {
   "codemirror_mode": {
    "name": "ipython",
    "version": 3
   },
   "file_extension": ".py",
   "mimetype": "text/x-python",
   "name": "python",
   "nbconvert_exporter": "python",
   "pygments_lexer": "ipython3",
   "version": "3.8.3"
  }
 },
 "nbformat": 4,
 "nbformat_minor": 4
}
